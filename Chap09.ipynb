{
  "nbformat": 4,
  "nbformat_minor": 0,
  "metadata": {
    "colab": {
      "name": "Chap09.ipynb",
      "version": "0.3.2",
      "provenance": [],
      "collapsed_sections": [],
      "include_colab_link": true
    },
    "kernelspec": {
      "name": "python3",
      "display_name": "Python 3"
    }
  },
  "cells": [
    {
      "cell_type": "markdown",
      "metadata": {
        "id": "view-in-github",
        "colab_type": "text"
      },
      "source": [
        "<a href=\"https://colab.research.google.com/github/varinen/handson-unsupervised-learning/blob/master/Chap09.ipynb\" target=\"_parent\"><img src=\"https://colab.research.google.com/assets/colab-badge.svg\" alt=\"Open In Colab\"/></a>"
      ]
    },
    {
      "cell_type": "markdown",
      "metadata": {
        "id": "tk9cQJCR1uln",
        "colab_type": "text"
      },
      "source": [
        "# Semisupervised Learning\n",
        "\n",
        "In the real world, dataset are usually partially labeled. We want to leverage the information available in labeled samples and efficiently label the unlabeled ones.\n",
        "\n",
        "Semisupervised learning uses the few available labels to uncover the data structure of the dataset. We will use the credit card dataset to demonstrate this ability.\n",
        "\n",
        "We start with loading of the necessary libraries.\n",
        "\n"
      ]
    },
    {
      "cell_type": "code",
      "metadata": {
        "id": "nPk8zjWcJaVz",
        "colab_type": "code",
        "colab": {
          "base_uri": "https://localhost:8080/",
          "height": 34
        },
        "outputId": "5a01031a-e2a0-4110-e14d-aa42e4aef019"
      },
      "source": [
        "'''Main'''\n",
        "import numpy as np\n",
        "import pandas as pd\n",
        "import os, time, re\n",
        "import pickle, gzip\n",
        "\n",
        "'''Data Viz'''\n",
        "import matplotlib.pyplot as plt\n",
        "import seaborn as sns\n",
        "color = sns.color_palette()\n",
        "import matplotlib as mpl\n",
        "\n",
        "%matplotlib inline\n",
        "\n",
        "'''Data Prep and Model Evaluation'''\n",
        "from sklearn import preprocessing as pp\n",
        "from sklearn.model_selection import train_test_split \n",
        "from sklearn.model_selection import StratifiedKFold \n",
        "from sklearn.metrics import log_loss\n",
        "from sklearn.metrics import precision_recall_curve, average_precision_score\n",
        "from sklearn.metrics import roc_curve, auc, roc_auc_score\n",
        "\n",
        "'''Algos'''\n",
        "import lightgbm as lgb\n",
        "\n",
        "'''TensorFlow and Keras'''\n",
        "import tensorflow as tf\n",
        "import keras\n",
        "from keras import backend as K\n",
        "from keras.models import Sequential, Model\n",
        "from keras.layers import Activation, Dense, Dropout\n",
        "from keras.layers import BatchNormalization, Input, Lambda\n",
        "from keras import regularizers\n",
        "from keras.losses import mse, binary_crossentropy"
      ],
      "execution_count": 1,
      "outputs": [
        {
          "output_type": "stream",
          "text": [
            "Using TensorFlow backend.\n"
          ],
          "name": "stderr"
        }
      ]
    },
    {
      "cell_type": "code",
      "metadata": {
        "id": "zCbAMPYEJbbz",
        "colab_type": "code",
        "colab": {
          "base_uri": "https://localhost:8080/",
          "height": 51
        },
        "outputId": "c9569817-9b08-49ab-9a9d-63a8ddca24cf"
      },
      "source": [
        "!pip install -U -q PyDrive\n",
        "from pydrive.auth import GoogleAuth\n",
        "from pydrive.drive import GoogleDrive\n",
        "from google.colab import auth\n",
        "from oauth2client.client import GoogleCredentials\n",
        "# Authenticate and create the PyDrive client.\n",
        "auth.authenticate_user()\n",
        "gauth = GoogleAuth()\n",
        "gauth.credentials = GoogleCredentials.get_application_default()\n"
      ],
      "execution_count": 2,
      "outputs": [
        {
          "output_type": "stream",
          "text": [
            "\u001b[?25l\r\u001b[K     |▎                               | 10kB 16.6MB/s eta 0:00:01\r\u001b[K     |▋                               | 20kB 2.7MB/s eta 0:00:01\r\u001b[K     |█                               | 30kB 3.9MB/s eta 0:00:01\r\u001b[K     |█▎                              | 40kB 2.7MB/s eta 0:00:01\r\u001b[K     |█▋                              | 51kB 3.3MB/s eta 0:00:01\r\u001b[K     |██                              | 61kB 4.0MB/s eta 0:00:01\r\u001b[K     |██▎                             | 71kB 4.5MB/s eta 0:00:01\r\u001b[K     |██▋                             | 81kB 3.6MB/s eta 0:00:01\r\u001b[K     |███                             | 92kB 4.0MB/s eta 0:00:01\r\u001b[K     |███▎                            | 102kB 4.4MB/s eta 0:00:01\r\u001b[K     |███▋                            | 112kB 4.4MB/s eta 0:00:01\r\u001b[K     |████                            | 122kB 4.4MB/s eta 0:00:01\r\u001b[K     |████▎                           | 133kB 4.4MB/s eta 0:00:01\r\u001b[K     |████▋                           | 143kB 4.4MB/s eta 0:00:01\r\u001b[K     |█████                           | 153kB 4.4MB/s eta 0:00:01\r\u001b[K     |█████▎                          | 163kB 4.4MB/s eta 0:00:01\r\u001b[K     |█████▋                          | 174kB 4.4MB/s eta 0:00:01\r\u001b[K     |██████                          | 184kB 4.4MB/s eta 0:00:01\r\u001b[K     |██████▎                         | 194kB 4.4MB/s eta 0:00:01\r\u001b[K     |██████▋                         | 204kB 4.4MB/s eta 0:00:01\r\u001b[K     |███████                         | 215kB 4.4MB/s eta 0:00:01\r\u001b[K     |███████▎                        | 225kB 4.4MB/s eta 0:00:01\r\u001b[K     |███████▋                        | 235kB 4.4MB/s eta 0:00:01\r\u001b[K     |████████                        | 245kB 4.4MB/s eta 0:00:01\r\u001b[K     |████████▎                       | 256kB 4.4MB/s eta 0:00:01\r\u001b[K     |████████▋                       | 266kB 4.4MB/s eta 0:00:01\r\u001b[K     |█████████                       | 276kB 4.4MB/s eta 0:00:01\r\u001b[K     |█████████▎                      | 286kB 4.4MB/s eta 0:00:01\r\u001b[K     |█████████▋                      | 296kB 4.4MB/s eta 0:00:01\r\u001b[K     |██████████                      | 307kB 4.4MB/s eta 0:00:01\r\u001b[K     |██████████▎                     | 317kB 4.4MB/s eta 0:00:01\r\u001b[K     |██████████▋                     | 327kB 4.4MB/s eta 0:00:01\r\u001b[K     |███████████                     | 337kB 4.4MB/s eta 0:00:01\r\u001b[K     |███████████▎                    | 348kB 4.4MB/s eta 0:00:01\r\u001b[K     |███████████▋                    | 358kB 4.4MB/s eta 0:00:01\r\u001b[K     |████████████                    | 368kB 4.4MB/s eta 0:00:01\r\u001b[K     |████████████▎                   | 378kB 4.4MB/s eta 0:00:01\r\u001b[K     |████████████▋                   | 389kB 4.4MB/s eta 0:00:01\r\u001b[K     |█████████████                   | 399kB 4.4MB/s eta 0:00:01\r\u001b[K     |█████████████▎                  | 409kB 4.4MB/s eta 0:00:01\r\u001b[K     |█████████████▋                  | 419kB 4.4MB/s eta 0:00:01\r\u001b[K     |██████████████                  | 430kB 4.4MB/s eta 0:00:01\r\u001b[K     |██████████████▎                 | 440kB 4.4MB/s eta 0:00:01\r\u001b[K     |██████████████▋                 | 450kB 4.4MB/s eta 0:00:01\r\u001b[K     |███████████████                 | 460kB 4.4MB/s eta 0:00:01\r\u001b[K     |███████████████▎                | 471kB 4.4MB/s eta 0:00:01\r\u001b[K     |███████████████▋                | 481kB 4.4MB/s eta 0:00:01\r\u001b[K     |████████████████                | 491kB 4.4MB/s eta 0:00:01\r\u001b[K     |████████████████▎               | 501kB 4.4MB/s eta 0:00:01\r\u001b[K     |████████████████▋               | 512kB 4.4MB/s eta 0:00:01\r\u001b[K     |█████████████████               | 522kB 4.4MB/s eta 0:00:01\r\u001b[K     |█████████████████▎              | 532kB 4.4MB/s eta 0:00:01\r\u001b[K     |█████████████████▋              | 542kB 4.4MB/s eta 0:00:01\r\u001b[K     |██████████████████              | 552kB 4.4MB/s eta 0:00:01\r\u001b[K     |██████████████████▎             | 563kB 4.4MB/s eta 0:00:01\r\u001b[K     |██████████████████▋             | 573kB 4.4MB/s eta 0:00:01\r\u001b[K     |███████████████████             | 583kB 4.4MB/s eta 0:00:01\r\u001b[K     |███████████████████▎            | 593kB 4.4MB/s eta 0:00:01\r\u001b[K     |███████████████████▋            | 604kB 4.4MB/s eta 0:00:01\r\u001b[K     |████████████████████            | 614kB 4.4MB/s eta 0:00:01\r\u001b[K     |████████████████████▎           | 624kB 4.4MB/s eta 0:00:01\r\u001b[K     |████████████████████▋           | 634kB 4.4MB/s eta 0:00:01\r\u001b[K     |█████████████████████           | 645kB 4.4MB/s eta 0:00:01\r\u001b[K     |█████████████████████▎          | 655kB 4.4MB/s eta 0:00:01\r\u001b[K     |█████████████████████▋          | 665kB 4.4MB/s eta 0:00:01\r\u001b[K     |██████████████████████          | 675kB 4.4MB/s eta 0:00:01\r\u001b[K     |██████████████████████▎         | 686kB 4.4MB/s eta 0:00:01\r\u001b[K     |██████████████████████▋         | 696kB 4.4MB/s eta 0:00:01\r\u001b[K     |███████████████████████         | 706kB 4.4MB/s eta 0:00:01\r\u001b[K     |███████████████████████▎        | 716kB 4.4MB/s eta 0:00:01\r\u001b[K     |███████████████████████▋        | 727kB 4.4MB/s eta 0:00:01\r\u001b[K     |████████████████████████        | 737kB 4.4MB/s eta 0:00:01\r\u001b[K     |████████████████████████▎       | 747kB 4.4MB/s eta 0:00:01\r\u001b[K     |████████████████████████▋       | 757kB 4.4MB/s eta 0:00:01\r\u001b[K     |████████████████████████▉       | 768kB 4.4MB/s eta 0:00:01\r\u001b[K     |█████████████████████████▏      | 778kB 4.4MB/s eta 0:00:01\r\u001b[K     |█████████████████████████▌      | 788kB 4.4MB/s eta 0:00:01\r\u001b[K     |█████████████████████████▉      | 798kB 4.4MB/s eta 0:00:01\r\u001b[K     |██████████████████████████▏     | 808kB 4.4MB/s eta 0:00:01\r\u001b[K     |██████████████████████████▌     | 819kB 4.4MB/s eta 0:00:01\r\u001b[K     |██████████████████████████▉     | 829kB 4.4MB/s eta 0:00:01\r\u001b[K     |███████████████████████████▏    | 839kB 4.4MB/s eta 0:00:01\r\u001b[K     |███████████████████████████▌    | 849kB 4.4MB/s eta 0:00:01\r\u001b[K     |███████████████████████████▉    | 860kB 4.4MB/s eta 0:00:01\r\u001b[K     |████████████████████████████▏   | 870kB 4.4MB/s eta 0:00:01\r\u001b[K     |████████████████████████████▌   | 880kB 4.4MB/s eta 0:00:01\r\u001b[K     |████████████████████████████▉   | 890kB 4.4MB/s eta 0:00:01\r\u001b[K     |█████████████████████████████▏  | 901kB 4.4MB/s eta 0:00:01\r\u001b[K     |█████████████████████████████▌  | 911kB 4.4MB/s eta 0:00:01\r\u001b[K     |█████████████████████████████▉  | 921kB 4.4MB/s eta 0:00:01\r\u001b[K     |██████████████████████████████▏ | 931kB 4.4MB/s eta 0:00:01\r\u001b[K     |██████████████████████████████▌ | 942kB 4.4MB/s eta 0:00:01\r\u001b[K     |██████████████████████████████▉ | 952kB 4.4MB/s eta 0:00:01\r\u001b[K     |███████████████████████████████▏| 962kB 4.4MB/s eta 0:00:01\r\u001b[K     |███████████████████████████████▌| 972kB 4.4MB/s eta 0:00:01\r\u001b[K     |███████████████████████████████▉| 983kB 4.4MB/s eta 0:00:01\r\u001b[K     |████████████████████████████████| 993kB 4.4MB/s \n",
            "\u001b[?25h  Building wheel for PyDrive (setup.py) ... \u001b[?25l\u001b[?25hdone\n"
          ],
          "name": "stdout"
        }
      ]
    },
    {
      "cell_type": "code",
      "metadata": {
        "id": "LShf0CiiJ9v5",
        "colab_type": "code",
        "colab": {}
      },
      "source": [
        "drive = GoogleDrive(gauth)\n"
      ],
      "execution_count": 0,
      "outputs": []
    },
    {
      "cell_type": "code",
      "metadata": {
        "id": "3EiRXdnUKG6x",
        "colab_type": "code",
        "colab": {
          "base_uri": "https://localhost:8080/",
          "height": 34
        },
        "outputId": "b99bbfec-2539-4cd2-db24-f2f5f3f10dee"
      },
      "source": [
        "link = 'https://drive.google.com/open?id=1kEH7mXyYvtduSntlTS-40XAcpSMBoFyf'\n",
        "fluff, id = link.split('=')\n",
        "print(id)\n"
      ],
      "execution_count": 4,
      "outputs": [
        {
          "output_type": "stream",
          "text": [
            "1kEH7mXyYvtduSntlTS-40XAcpSMBoFyf\n"
          ],
          "name": "stdout"
        }
      ]
    },
    {
      "cell_type": "code",
      "metadata": {
        "id": "VUHAH-9BKI2x",
        "colab_type": "code",
        "colab": {
          "base_uri": "https://localhost:8080/",
          "height": 510
        },
        "outputId": "00a2d3d4-52da-479d-fa5f-fa007129a5b5"
      },
      "source": [
        "downloaded = drive.CreateFile({'id':id}) \n",
        "downloaded.GetContentFile('Filename.csv')  \n",
        "data = pd.read_csv('Filename.csv')"
      ],
      "execution_count": 5,
      "outputs": [
        {
          "output_type": "stream",
          "text": [
            "WARNING: Logging before flag parsing goes to stderr.\n",
            "W0620 13:52:07.787219 139675991598976 __init__.py:44] file_cache is unavailable when using oauth2client >= 4.0.0 or google-auth\n",
            "Traceback (most recent call last):\n",
            "  File \"/usr/local/lib/python3.6/dist-packages/googleapiclient/discovery_cache/__init__.py\", line 36, in autodetect\n",
            "    from google.appengine.api import memcache\n",
            "ModuleNotFoundError: No module named 'google.appengine'\n",
            "\n",
            "During handling of the above exception, another exception occurred:\n",
            "\n",
            "Traceback (most recent call last):\n",
            "  File \"/usr/local/lib/python3.6/dist-packages/googleapiclient/discovery_cache/file_cache.py\", line 33, in <module>\n",
            "    from oauth2client.contrib.locked_file import LockedFile\n",
            "ModuleNotFoundError: No module named 'oauth2client.contrib.locked_file'\n",
            "\n",
            "During handling of the above exception, another exception occurred:\n",
            "\n",
            "Traceback (most recent call last):\n",
            "  File \"/usr/local/lib/python3.6/dist-packages/googleapiclient/discovery_cache/file_cache.py\", line 37, in <module>\n",
            "    from oauth2client.locked_file import LockedFile\n",
            "ModuleNotFoundError: No module named 'oauth2client.locked_file'\n",
            "\n",
            "During handling of the above exception, another exception occurred:\n",
            "\n",
            "Traceback (most recent call last):\n",
            "  File \"/usr/local/lib/python3.6/dist-packages/googleapiclient/discovery_cache/__init__.py\", line 41, in autodetect\n",
            "    from . import file_cache\n",
            "  File \"/usr/local/lib/python3.6/dist-packages/googleapiclient/discovery_cache/file_cache.py\", line 41, in <module>\n",
            "    'file_cache is unavailable when using oauth2client >= 4.0.0 or google-auth')\n",
            "ImportError: file_cache is unavailable when using oauth2client >= 4.0.0 or google-auth\n"
          ],
          "name": "stderr"
        }
      ]
    },
    {
      "cell_type": "code",
      "metadata": {
        "id": "KkA0Ft6jKLCR",
        "colab_type": "code",
        "colab": {
          "base_uri": "https://localhost:8080/",
          "height": 224
        },
        "outputId": "f26b8aff-7efe-46b7-cb80-a40b768b4400"
      },
      "source": [
        "data.head()"
      ],
      "execution_count": 6,
      "outputs": [
        {
          "output_type": "execute_result",
          "data": {
            "text/html": [
              "<div>\n",
              "<style scoped>\n",
              "    .dataframe tbody tr th:only-of-type {\n",
              "        vertical-align: middle;\n",
              "    }\n",
              "\n",
              "    .dataframe tbody tr th {\n",
              "        vertical-align: top;\n",
              "    }\n",
              "\n",
              "    .dataframe thead th {\n",
              "        text-align: right;\n",
              "    }\n",
              "</style>\n",
              "<table border=\"1\" class=\"dataframe\">\n",
              "  <thead>\n",
              "    <tr style=\"text-align: right;\">\n",
              "      <th></th>\n",
              "      <th>Time</th>\n",
              "      <th>V1</th>\n",
              "      <th>V2</th>\n",
              "      <th>V3</th>\n",
              "      <th>V4</th>\n",
              "      <th>V5</th>\n",
              "      <th>V6</th>\n",
              "      <th>V7</th>\n",
              "      <th>V8</th>\n",
              "      <th>V9</th>\n",
              "      <th>V10</th>\n",
              "      <th>V11</th>\n",
              "      <th>V12</th>\n",
              "      <th>V13</th>\n",
              "      <th>V14</th>\n",
              "      <th>V15</th>\n",
              "      <th>V16</th>\n",
              "      <th>V17</th>\n",
              "      <th>V18</th>\n",
              "      <th>V19</th>\n",
              "      <th>V20</th>\n",
              "      <th>V21</th>\n",
              "      <th>V22</th>\n",
              "      <th>V23</th>\n",
              "      <th>V24</th>\n",
              "      <th>V25</th>\n",
              "      <th>V26</th>\n",
              "      <th>V27</th>\n",
              "      <th>V28</th>\n",
              "      <th>Amount</th>\n",
              "      <th>Class</th>\n",
              "    </tr>\n",
              "  </thead>\n",
              "  <tbody>\n",
              "    <tr>\n",
              "      <th>0</th>\n",
              "      <td>0.0</td>\n",
              "      <td>-1.359807</td>\n",
              "      <td>-0.072781</td>\n",
              "      <td>2.536347</td>\n",
              "      <td>1.378155</td>\n",
              "      <td>-0.338321</td>\n",
              "      <td>0.462388</td>\n",
              "      <td>0.239599</td>\n",
              "      <td>0.098698</td>\n",
              "      <td>0.363787</td>\n",
              "      <td>0.090794</td>\n",
              "      <td>-0.551600</td>\n",
              "      <td>-0.617801</td>\n",
              "      <td>-0.991390</td>\n",
              "      <td>-0.311169</td>\n",
              "      <td>1.468177</td>\n",
              "      <td>-0.470401</td>\n",
              "      <td>0.207971</td>\n",
              "      <td>0.025791</td>\n",
              "      <td>0.403993</td>\n",
              "      <td>0.251412</td>\n",
              "      <td>-0.018307</td>\n",
              "      <td>0.277838</td>\n",
              "      <td>-0.110474</td>\n",
              "      <td>0.066928</td>\n",
              "      <td>0.128539</td>\n",
              "      <td>-0.189115</td>\n",
              "      <td>0.133558</td>\n",
              "      <td>-0.021053</td>\n",
              "      <td>149.62</td>\n",
              "      <td>0</td>\n",
              "    </tr>\n",
              "    <tr>\n",
              "      <th>1</th>\n",
              "      <td>0.0</td>\n",
              "      <td>1.191857</td>\n",
              "      <td>0.266151</td>\n",
              "      <td>0.166480</td>\n",
              "      <td>0.448154</td>\n",
              "      <td>0.060018</td>\n",
              "      <td>-0.082361</td>\n",
              "      <td>-0.078803</td>\n",
              "      <td>0.085102</td>\n",
              "      <td>-0.255425</td>\n",
              "      <td>-0.166974</td>\n",
              "      <td>1.612727</td>\n",
              "      <td>1.065235</td>\n",
              "      <td>0.489095</td>\n",
              "      <td>-0.143772</td>\n",
              "      <td>0.635558</td>\n",
              "      <td>0.463917</td>\n",
              "      <td>-0.114805</td>\n",
              "      <td>-0.183361</td>\n",
              "      <td>-0.145783</td>\n",
              "      <td>-0.069083</td>\n",
              "      <td>-0.225775</td>\n",
              "      <td>-0.638672</td>\n",
              "      <td>0.101288</td>\n",
              "      <td>-0.339846</td>\n",
              "      <td>0.167170</td>\n",
              "      <td>0.125895</td>\n",
              "      <td>-0.008983</td>\n",
              "      <td>0.014724</td>\n",
              "      <td>2.69</td>\n",
              "      <td>0</td>\n",
              "    </tr>\n",
              "    <tr>\n",
              "      <th>2</th>\n",
              "      <td>1.0</td>\n",
              "      <td>-1.358354</td>\n",
              "      <td>-1.340163</td>\n",
              "      <td>1.773209</td>\n",
              "      <td>0.379780</td>\n",
              "      <td>-0.503198</td>\n",
              "      <td>1.800499</td>\n",
              "      <td>0.791461</td>\n",
              "      <td>0.247676</td>\n",
              "      <td>-1.514654</td>\n",
              "      <td>0.207643</td>\n",
              "      <td>0.624501</td>\n",
              "      <td>0.066084</td>\n",
              "      <td>0.717293</td>\n",
              "      <td>-0.165946</td>\n",
              "      <td>2.345865</td>\n",
              "      <td>-2.890083</td>\n",
              "      <td>1.109969</td>\n",
              "      <td>-0.121359</td>\n",
              "      <td>-2.261857</td>\n",
              "      <td>0.524980</td>\n",
              "      <td>0.247998</td>\n",
              "      <td>0.771679</td>\n",
              "      <td>0.909412</td>\n",
              "      <td>-0.689281</td>\n",
              "      <td>-0.327642</td>\n",
              "      <td>-0.139097</td>\n",
              "      <td>-0.055353</td>\n",
              "      <td>-0.059752</td>\n",
              "      <td>378.66</td>\n",
              "      <td>0</td>\n",
              "    </tr>\n",
              "    <tr>\n",
              "      <th>3</th>\n",
              "      <td>1.0</td>\n",
              "      <td>-0.966272</td>\n",
              "      <td>-0.185226</td>\n",
              "      <td>1.792993</td>\n",
              "      <td>-0.863291</td>\n",
              "      <td>-0.010309</td>\n",
              "      <td>1.247203</td>\n",
              "      <td>0.237609</td>\n",
              "      <td>0.377436</td>\n",
              "      <td>-1.387024</td>\n",
              "      <td>-0.054952</td>\n",
              "      <td>-0.226487</td>\n",
              "      <td>0.178228</td>\n",
              "      <td>0.507757</td>\n",
              "      <td>-0.287924</td>\n",
              "      <td>-0.631418</td>\n",
              "      <td>-1.059647</td>\n",
              "      <td>-0.684093</td>\n",
              "      <td>1.965775</td>\n",
              "      <td>-1.232622</td>\n",
              "      <td>-0.208038</td>\n",
              "      <td>-0.108300</td>\n",
              "      <td>0.005274</td>\n",
              "      <td>-0.190321</td>\n",
              "      <td>-1.175575</td>\n",
              "      <td>0.647376</td>\n",
              "      <td>-0.221929</td>\n",
              "      <td>0.062723</td>\n",
              "      <td>0.061458</td>\n",
              "      <td>123.50</td>\n",
              "      <td>0</td>\n",
              "    </tr>\n",
              "    <tr>\n",
              "      <th>4</th>\n",
              "      <td>2.0</td>\n",
              "      <td>-1.158233</td>\n",
              "      <td>0.877737</td>\n",
              "      <td>1.548718</td>\n",
              "      <td>0.403034</td>\n",
              "      <td>-0.407193</td>\n",
              "      <td>0.095921</td>\n",
              "      <td>0.592941</td>\n",
              "      <td>-0.270533</td>\n",
              "      <td>0.817739</td>\n",
              "      <td>0.753074</td>\n",
              "      <td>-0.822843</td>\n",
              "      <td>0.538196</td>\n",
              "      <td>1.345852</td>\n",
              "      <td>-1.119670</td>\n",
              "      <td>0.175121</td>\n",
              "      <td>-0.451449</td>\n",
              "      <td>-0.237033</td>\n",
              "      <td>-0.038195</td>\n",
              "      <td>0.803487</td>\n",
              "      <td>0.408542</td>\n",
              "      <td>-0.009431</td>\n",
              "      <td>0.798278</td>\n",
              "      <td>-0.137458</td>\n",
              "      <td>0.141267</td>\n",
              "      <td>-0.206010</td>\n",
              "      <td>0.502292</td>\n",
              "      <td>0.219422</td>\n",
              "      <td>0.215153</td>\n",
              "      <td>69.99</td>\n",
              "      <td>0</td>\n",
              "    </tr>\n",
              "  </tbody>\n",
              "</table>\n",
              "</div>"
            ],
            "text/plain": [
              "   Time        V1        V2        V3  ...       V27       V28  Amount  Class\n",
              "0   0.0 -1.359807 -0.072781  2.536347  ...  0.133558 -0.021053  149.62      0\n",
              "1   0.0  1.191857  0.266151  0.166480  ... -0.008983  0.014724    2.69      0\n",
              "2   1.0 -1.358354 -1.340163  1.773209  ... -0.055353 -0.059752  378.66      0\n",
              "3   1.0 -0.966272 -0.185226  1.792993  ...  0.062723  0.061458  123.50      0\n",
              "4   2.0 -1.158233  0.877737  1.548718  ...  0.219422  0.215153   69.99      0\n",
              "\n",
              "[5 rows x 31 columns]"
            ]
          },
          "metadata": {
            "tags": []
          },
          "execution_count": 6
        }
      ]
    },
    {
      "cell_type": "markdown",
      "metadata": {
        "id": "6ef4jEnyM2w4",
        "colab_type": "text"
      },
      "source": [
        "We will create a test and training dataset. To simulate a partially labeled, we will drop 90% of the labels in the training set.\n",
        "\n"
      ]
    },
    {
      "cell_type": "code",
      "metadata": {
        "id": "zVOTMYvTNPnt",
        "colab_type": "code",
        "colab": {}
      },
      "source": [
        "dataX = data.copy().drop(['Class','Time'],axis=1)\n",
        "dataY = data['Class'].copy()\n",
        "\n",
        "\n",
        "# Scale data\n",
        "featuresToScale = dataX.columns\n",
        "sX = pp.StandardScaler(copy=True, with_mean=True, with_std=True)\n",
        "dataX.loc[:,featuresToScale] = sX.fit_transform(dataX[featuresToScale])\n",
        "\n",
        "# Split into train and test\n",
        "X_train, X_test, y_train, y_test = \\\n",
        "    train_test_split(dataX, dataY, test_size=0.33, \\\n",
        "                     random_state=2018, stratify=dataY)"
      ],
      "execution_count": 0,
      "outputs": []
    },
    {
      "cell_type": "code",
      "metadata": {
        "id": "z33A4vpPOGwx",
        "colab_type": "code",
        "colab": {
          "base_uri": "https://localhost:8080/",
          "height": 34
        },
        "outputId": "a0366b4f-ab15-4c87-a493-22e2ae6c4b13"
      },
      "source": [
        "len(X_train)"
      ],
      "execution_count": 43,
      "outputs": [
        {
          "output_type": "execute_result",
          "data": {
            "text/plain": [
              "190820"
            ]
          },
          "metadata": {
            "tags": []
          },
          "execution_count": 43
        }
      ]
    },
    {
      "cell_type": "code",
      "metadata": {
        "id": "VuNhJACrNSe_",
        "colab_type": "code",
        "colab": {
          "base_uri": "https://localhost:8080/",
          "height": 102
        },
        "outputId": "6ec2e081-1f70-40ed-9550-8dd1e5a857a7"
      },
      "source": [
        "# Drop 90% of the labels from the training set\n",
        "\n",
        "# Out of label with value 1 (fraudulent transactions) take 90%\n",
        "toDrop = y_train[y_train==1].sample(frac=0.90,random_state=2018)\n",
        "\n",
        "# Remove entries that correspend to the dropped labels\n",
        "X_train.drop(labels=toDrop.index,inplace=True)\n",
        "y_train.drop(labels=toDrop.index,inplace=True)"
      ],
      "execution_count": 44,
      "outputs": [
        {
          "output_type": "stream",
          "text": [
            "/usr/local/lib/python3.6/dist-packages/pandas/core/frame.py:3940: SettingWithCopyWarning: \n",
            "A value is trying to be set on a copy of a slice from a DataFrame\n",
            "\n",
            "See the caveats in the documentation: http://pandas.pydata.org/pandas-docs/stable/indexing.html#indexing-view-versus-copy\n",
            "  errors=errors)\n"
          ],
          "name": "stderr"
        }
      ]
    },
    {
      "cell_type": "code",
      "metadata": {
        "id": "PQHZKm9eOGGz",
        "colab_type": "code",
        "colab": {
          "base_uri": "https://localhost:8080/",
          "height": 34
        },
        "outputId": "98a132d9-f4a6-4934-db39-4974e181ed78"
      },
      "source": [
        "len(X_train)"
      ],
      "execution_count": 45,
      "outputs": [
        {
          "output_type": "execute_result",
          "data": {
            "text/plain": [
              "190523"
            ]
          },
          "metadata": {
            "tags": []
          },
          "execution_count": 45
        }
      ]
    },
    {
      "cell_type": "markdown",
      "metadata": {
        "id": "uewds0INOVDn",
        "colab_type": "text"
      },
      "source": [
        "Next, we reuse the functions `anomalyScores` and `plotResults` from the previous chapters."
      ]
    },
    {
      "cell_type": "code",
      "metadata": {
        "id": "GDzjto9qOBjf",
        "colab_type": "code",
        "colab": {}
      },
      "source": [
        "def anomalyScores(originalDF, reducedDF):\n",
        "    loss = np.sum((np.array(originalDF) - \\\n",
        "                   np.array(reducedDF))**2, axis=1)\n",
        "    loss = pd.Series(data=loss,index=originalDF.index)\n",
        "    loss = (loss-np.min(loss))/(np.max(loss)-np.min(loss))\n",
        "    return loss"
      ],
      "execution_count": 0,
      "outputs": []
    },
    {
      "cell_type": "code",
      "metadata": {
        "id": "2de9isAIOeGH",
        "colab_type": "code",
        "colab": {}
      },
      "source": [
        "def plotResults(trueLabels, anomalyScores, returnPreds = False):\n",
        "    preds = pd.concat([trueLabels, anomalyScores], axis=1)\n",
        "    preds.columns = ['trueLabel', 'anomalyScore']\n",
        "    precision, recall, thresholds = \\\n",
        "        precision_recall_curve(preds['trueLabel'], \\\n",
        "                               preds['anomalyScore'])\n",
        "    average_precision = average_precision_score( \\\n",
        "                        preds['trueLabel'], preds['anomalyScore'])\n",
        "    \n",
        "    plt.step(recall, precision, color='k', alpha=0.7, where='post')\n",
        "    plt.fill_between(recall, precision, step='post', alpha=0.3, color='k')\n",
        "\n",
        "    plt.xlabel('Recall')\n",
        "    plt.ylabel('Precision')\n",
        "    plt.ylim([0.0, 1.05])\n",
        "    plt.xlim([0.0, 1.0])\n",
        "    \n",
        "    plt.title('Precision-Recall curve: Average Precision = \\\n",
        "        {0:0.2f}'.format(average_precision))\n",
        "\n",
        "    fpr, tpr, thresholds = roc_curve(preds['trueLabel'], \\\n",
        "                                     preds['anomalyScore'])\n",
        "    areaUnderROC = auc(fpr, tpr)\n",
        "\n",
        "    plt.figure()\n",
        "    plt.plot(fpr, tpr, color='r', lw=2, label='ROC curve')\n",
        "    plt.plot([0, 1], [0, 1], color='k', lw=2, linestyle='--')\n",
        "    plt.xlim([0.0, 1.0])\n",
        "    plt.ylim([0.0, 1.05])\n",
        "    plt.xlabel('False Positive Rate')\n",
        "    plt.ylabel('True Positive Rate')\n",
        "    plt.title('Receiver operating characteristic: Area under the \\\n",
        "        curve = {0:0.2f}'.format(areaUnderROC))\n",
        "    plt.legend(loc=\"lower right\")\n",
        "    plt.show()\n",
        "    \n",
        "    if returnPreds==True:\n",
        "        return preds, average_precision"
      ],
      "execution_count": 0,
      "outputs": []
    },
    {
      "cell_type": "markdown",
      "metadata": {
        "id": "U8QX9HomOptN",
        "colab_type": "text"
      },
      "source": [
        "We will also need a new function, `precisionAnalysis` that will measure precision at a certain recall. Specifically, we would like to measure precision at the 75% recall. The better is the precision that allows us to catch 75% of the fraud, the better is the model."
      ]
    },
    {
      "cell_type": "code",
      "metadata": {
        "id": "uVGxW48nOf2G",
        "colab_type": "code",
        "colab": {}
      },
      "source": [
        "def precisionAnalysis(df, column, threshold):\n",
        "    # sort values in the given DF by the specified column\n",
        "    df.sort_values(by=column, ascending=False, inplace=True)\n",
        "    \n",
        "    # calculate what is the goal number of caught fraud given the threshold.\n",
        "    threshold_value = threshold*df.trueLabel.sum()\n",
        "    i = 0\n",
        "    j = 0\n",
        "    while i < threshold_value+1:\n",
        "        if df.iloc[j][\"trueLabel\"]==1:\n",
        "            i += 1\n",
        "        j += 1\n",
        "    return df, i/j"
      ],
      "execution_count": 0,
      "outputs": []
    },
    {
      "cell_type": "markdown",
      "metadata": {
        "id": "nyjWn48iPzWs",
        "colab_type": "text"
      },
      "source": [
        "## Supervised Model\n",
        "\n",
        "To benchmark our semisupervised model, we have to learn how a supervised model would perform in isolation. We will use the light gradient boosting decision tree model that performed the best previously. We will apply 5 fold cross-validation:"
      ]
    },
    {
      "cell_type": "code",
      "metadata": {
        "id": "y9GYkuSLPyx3",
        "colab_type": "code",
        "colab": {}
      },
      "source": [
        "k_fold = StratifiedKFold(n_splits=5,shuffle=True,random_state=2018)"
      ],
      "execution_count": 0,
      "outputs": []
    },
    {
      "cell_type": "code",
      "metadata": {
        "id": "nkieRHd2QJVH",
        "colab_type": "code",
        "colab": {}
      },
      "source": [
        "params_lightGB = {\n",
        "    'task': 'train',\n",
        "    'application':'binary',\n",
        "    'num_class':1,\n",
        "    'boosting': 'gbdt',\n",
        "    'objective': 'binary',\n",
        "    'metric': 'binary_logloss',\n",
        "    'metric_freq':50,\n",
        "    'is_training_metric':False,\n",
        "    'max_depth':4,\n",
        "    'num_leaves': 31,\n",
        "    'learning_rate': 0.01,\n",
        "    'feature_fraction': 1.0,\n",
        "    'bagging_fraction': 1.0,\n",
        "    'bagging_freq': 0,\n",
        "    'bagging_seed': 2018,\n",
        "    'verbose': 0,\n",
        "    'num_threads':16\n",
        "}"
      ],
      "execution_count": 0,
      "outputs": []
    },
    {
      "cell_type": "markdown",
      "metadata": {
        "id": "B5ubUlNLRLip",
        "colab_type": "text"
      },
      "source": [
        "Let's train the algorithm:"
      ]
    },
    {
      "cell_type": "code",
      "metadata": {
        "id": "qHrPUcloQKV-",
        "colab_type": "code",
        "colab": {}
      },
      "source": [
        "trainingScores = []\n",
        "cvScores = []\n",
        "predictionsBasedOnKFolds = pd.DataFrame(data=[], index=y_train.index, \\\n",
        "                                        columns=['prediction'])\n",
        "\n",
        "for train_index, cv_index in k_fold.split(np.zeros(len(X_train)), \\\n",
        "                                          y_train.ravel()):\n",
        "    X_train_fold, X_cv_fold = X_train.iloc[train_index,:], \\\n",
        "        X_train.iloc[cv_index,:]\n",
        "    y_train_fold, y_cv_fold = y_train.iloc[train_index], \\\n",
        "        y_train.iloc[cv_index]\n",
        "    \n",
        "    lgb_train = lgb.Dataset(X_train_fold, y_train_fold)\n",
        "    lgb_eval = lgb.Dataset(X_cv_fold, y_cv_fold, reference=lgb_train)\n",
        "    gbm = lgb.train(params_lightGB, lgb_train, num_boost_round=2000,\n",
        "                   valid_sets=lgb_eval, early_stopping_rounds=200)\n",
        "    \n",
        "    loglossTraining = log_loss(y_train_fold, gbm.predict(X_train_fold, \\\n",
        "                                num_iteration=gbm.best_iteration))\n",
        "    trainingScores.append(loglossTraining)\n",
        "    \n",
        "    predictionsBasedOnKFolds.loc[X_cv_fold.index,'prediction'] = \\\n",
        "        gbm.predict(X_cv_fold, num_iteration=gbm.best_iteration) \n",
        "    loglossCV = log_loss(y_cv_fold, \\\n",
        "        predictionsBasedOnKFolds.loc[X_cv_fold.index,'prediction'])\n",
        "    cvScores.append(loglossCV)\n",
        "    \n",
        "    print('Training Log Loss: ', loglossTraining)\n",
        "    print('CV Log Loss: ', loglossCV)\n",
        "    \n",
        "loglossLightGBMGradientBoosting = log_loss(y_train, \\\n",
        "        predictionsBasedOnKFolds.loc[:,'prediction'])\n",
        "print('LightGBM Gradient Boosting Log Loss: ', \\\n",
        "        loglossLightGBMGradientBoosting)"
      ],
      "execution_count": 0,
      "outputs": []
    },
    {
      "cell_type": "code",
      "metadata": {
        "id": "zHY-0CO_RUYa",
        "colab_type": "code",
        "colab": {
          "base_uri": "https://localhost:8080/",
          "height": 573
        },
        "outputId": "5a132adb-c6e7-4778-d8c4-bb7b8557a7f4"
      },
      "source": [
        "preds, average_precision = plotResults(y_train, \\\n",
        "                        predictionsBasedOnKFolds.loc[:,'prediction'], True)"
      ],
      "execution_count": 52,
      "outputs": [
        {
          "output_type": "display_data",
          "data": {
            "image/png": "[encoded data removed]",
            "text/plain": [
              "<Figure size 432x288 with 1 Axes>"
            ]
          },
          "metadata": {
            "tags": []
          }
        },
        {
          "output_type": "display_data",
          "data": {
            "image/png": "[encoded data removed]",
            "text/plain": [
              "<Figure size 432x288 with 1 Axes>"
            ]
          },
          "metadata": {
            "tags": []
          }
        }
      ]
    },
    {
      "cell_type": "markdown",
      "metadata": {
        "id": "HeLs7sUESZWG",
        "colab_type": "text"
      },
      "source": [
        "After the model has been trained, we use it on the test set:"
      ]
    },
    {
      "cell_type": "code",
      "metadata": {
        "id": "Hoy378_PSHel",
        "colab_type": "code",
        "colab": {
          "base_uri": "https://localhost:8080/",
          "height": 573
        },
        "outputId": "4ba831c1-0ba8-486c-fc0a-0abbe000a497"
      },
      "source": [
        "predictions = pd.Series(data=gbm.predict(X_test, \\\n",
        "                num_iteration=gbm.best_iteration), index=X_test.index)\n",
        "preds, average_precision = plotResults(y_test, predictions, True)"
      ],
      "execution_count": 53,
      "outputs": [
        {
          "output_type": "display_data",
          "data": {
            "image/png": "[encoded data removed]",
            "text/plain": [
              "<Figure size 432x288 with 1 Axes>"
            ]
          },
          "metadata": {
            "tags": []
          }
        },
        {
          "output_type": "display_data",
          "data": {
            "image/png": "[encoded data removed]",
            "text/plain": [
              "<Figure size 432x288 with 1 Axes>"
            ]
          },
          "metadata": {
            "tags": []
          }
        }
      ]
    },
    {
      "cell_type": "code",
      "metadata": {
        "id": "Nsz_KgFZSgSl",
        "colab_type": "code",
        "colab": {
          "base_uri": "https://localhost:8080/",
          "height": 34
        },
        "outputId": "f3951eab-b7f0-4088-d173-62e0ff3268d6"
      },
      "source": [
        "preds, precision = precisionAnalysis(preds, \"anomalyScore\", 0.75)\n",
        "print(\"Precision at 75% recall\", precision)"
      ],
      "execution_count": 54,
      "outputs": [
        {
          "output_type": "stream",
          "text": [
            "Precision at 75% recall 0.5590909090909091\n"
          ],
          "name": "stdout"
        }
      ]
    },
    {
      "cell_type": "markdown",
      "metadata": {
        "id": "uK1pV3VeTObr",
        "colab_type": "text"
      },
      "source": [
        "The average precision was 0.74. To capture 75% fraud, we have to deal with only 56% precision.\n",
        "\n",
        "## Unsupervised Model\n",
        "\n",
        "Now, we will see how an unsupervised model will perform. We will set up a **sparse overcomplete two-layer autoencoder** with 40 nodes in the hidden layer and 2% dropout. The activation is linear.\n",
        "\n",
        "We also will adjust our training set by *oversampling*. We have previously dropped 90% of the fraudulent labels and have only 33 labeled fraud cases. We will duplicate these cases 100 times and add them to the training (but not test!) dataset. This will allow the autoencoder to be better trained on the few available data points.\n",
        "\n",
        "\n"
      ]
    },
    {
      "cell_type": "code",
      "metadata": {
        "id": "FShM618nTJ2N",
        "colab_type": "code",
        "colab": {}
      },
      "source": [
        "oversample_multiplier = 100\n",
        "\n",
        "X_train_original = X_train.copy()\n",
        "y_train_original = y_train.copy()\n",
        "X_test_original = X_test.copy()\n",
        "y_test_original = y_test.copy()\n",
        "\n",
        "X_train_oversampled = X_train.copy()\n",
        "y_train_oversampled = y_train.copy()\n",
        "X_train_oversampled = X_train_oversampled.append( \\\n",
        "        [X_train_oversampled[y_train==1]]*oversample_multiplier, \\\n",
        "        ignore_index=False)\n",
        "y_train_oversampled = y_train_oversampled.append( \\\n",
        "        [y_train_oversampled[y_train==1]]*oversample_multiplier, \\\n",
        "        ignore_index=False)\n",
        "\n",
        "X_train = X_train_oversampled.copy()\n",
        "y_train = y_train_oversampled.copy()"
      ],
      "execution_count": 0,
      "outputs": []
    },
    {
      "cell_type": "markdown",
      "metadata": {
        "id": "mmeVwPqGU90j",
        "colab_type": "text"
      },
      "source": [
        "Now, we can train the autoencoder:"
      ]
    },
    {
      "cell_type": "code",
      "metadata": {
        "id": "q4zxPs0iU4pT",
        "colab_type": "code",
        "colab": {}
      },
      "source": [
        "model = Sequential()\n",
        "model.add(Dense(units=40, activation='linear', \\\n",
        "                activity_regularizer=regularizers.l1(10e-5), \\\n",
        "                input_dim=29,name='hidden_layer'))\n",
        "model.add(Dropout(0.02))\n",
        "model.add(Dense(units=29, activation='linear'))"
      ],
      "execution_count": 0,
      "outputs": []
    },
    {
      "cell_type": "code",
      "metadata": {
        "id": "uLQJYRolVNW8",
        "colab_type": "code",
        "colab": {}
      },
      "source": [
        "model.compile(optimizer='adam',\n",
        "              loss='mean_squared_error',\n",
        "              metrics=['accuracy'])"
      ],
      "execution_count": 0,
      "outputs": []
    },
    {
      "cell_type": "code",
      "metadata": {
        "id": "M86tyIq_VZFE",
        "colab_type": "code",
        "colab": {
          "base_uri": "https://localhost:8080/",
          "height": 204
        },
        "outputId": "a2ca4c20-9681-4f93-ff3d-58aad8712764"
      },
      "source": [
        "num_epochs = 5\n",
        "batch_size = 32\n",
        "\n",
        "history = model.fit(x=X_train, y=X_train,\n",
        "                    epochs=num_epochs,\n",
        "                    batch_size=batch_size,\n",
        "                    shuffle=True,\n",
        "                    validation_split=0.20,\n",
        "                    verbose=1)"
      ],
      "execution_count": 58,
      "outputs": [
        {
          "output_type": "stream",
          "text": [
            "Train on 155058 samples, validate on 38765 samples\n",
            "Epoch 1/5\n",
            "155058/155058 [==============================] - 7s 46us/step - loss: 0.1600 - acc: 0.8473 - val_loss: 0.1064 - val_acc: 0.9752\n",
            "Epoch 2/5\n",
            "155058/155058 [==============================] - 7s 44us/step - loss: 0.0558 - acc: 0.9263 - val_loss: 0.0782 - val_acc: 0.9527\n",
            "Epoch 3/5\n",
            "155058/155058 [==============================] - 7s 44us/step - loss: 0.0453 - acc: 0.9269 - val_loss: 0.0950 - val_acc: 0.9542\n",
            "Epoch 4/5\n",
            "155058/155058 [==============================] - 7s 44us/step - loss: 0.0417 - acc: 0.9259 - val_loss: 0.0428 - val_acc: 0.9741\n",
            "Epoch 5/5\n",
            "155058/155058 [==============================] - 7s 44us/step - loss: 0.0394 - acc: 0.9232 - val_loss: 0.3966 - val_acc: 0.9400\n"
          ],
          "name": "stdout"
        }
      ]
    },
    {
      "cell_type": "code",
      "metadata": {
        "id": "WxLEgoAKVbpt",
        "colab_type": "code",
        "colab": {
          "base_uri": "https://localhost:8080/",
          "height": 590
        },
        "outputId": "003aafcb-e90c-4849-87ac-e717f09555c6"
      },
      "source": [
        "predictionsTrain = model.predict(X_train_original, verbose=1)\n",
        "anomalyScoresAETrain = anomalyScores(X_train_original, predictionsTrain)\n",
        "preds, average_precision = plotResults(y_train_original, \\\n",
        "                                      anomalyScoresAETrain, True)"
      ],
      "execution_count": 59,
      "outputs": [
        {
          "output_type": "stream",
          "text": [
            "190523/190523 [==============================] - 3s 17us/step\n"
          ],
          "name": "stdout"
        },
        {
          "output_type": "display_data",
          "data": {
            "image/png": "[encoded data removed]",
            "text/plain": [
              "<Figure size 432x288 with 1 Axes>"
            ]
          },
          "metadata": {
            "tags": []
          }
        },
        {
          "output_type": "display_data",
          "data": {
            "image/png": "[encoded data removed]",
            "text/plain": [
              "<Figure size 432x288 with 1 Axes>"
            ]
          },
          "metadata": {
            "tags": []
          }
        }
      ]
    },
    {
      "cell_type": "markdown",
      "metadata": {
        "id": "H_PJBejCWKK2",
        "colab_type": "text"
      },
      "source": [
        "Now, let's try the autoencoder on the test dataset:"
      ]
    },
    {
      "cell_type": "code",
      "metadata": {
        "id": "9WLiHW2mWA3U",
        "colab_type": "code",
        "colab": {
          "base_uri": "https://localhost:8080/",
          "height": 590
        },
        "outputId": "3e52568a-1b3b-4a41-86b3-6ddd40659fd5"
      },
      "source": [
        "predictions = model.predict(X_test, verbose=1)\n",
        "anomalyScoresAE = anomalyScores(X_test, predictions)\n",
        "preds, average_precision = plotResults(y_test, anomalyScoresAE, True)"
      ],
      "execution_count": 60,
      "outputs": [
        {
          "output_type": "stream",
          "text": [
            "93987/93987 [==============================] - 1s 16us/step\n"
          ],
          "name": "stdout"
        },
        {
          "output_type": "display_data",
          "data": {
            "image/png": "[encoded data removed]",
            "text/plain": [
              "<Figure size 432x288 with 1 Axes>"
            ]
          },
          "metadata": {
            "tags": []
          }
        },
        {
          "output_type": "display_data",
          "data": {
            "image/png": "[encoded data removed]",
            "text/plain": [
              "<Figure size 432x288 with 1 Axes>"
            ]
          },
          "metadata": {
            "tags": []
          }
        }
      ]
    },
    {
      "cell_type": "code",
      "metadata": {
        "id": "HVEGBbA1WN60",
        "colab_type": "code",
        "colab": {
          "base_uri": "https://localhost:8080/",
          "height": 34
        },
        "outputId": "072a93df-9d0c-4602-8270-d8bd32d49d9e"
      },
      "source": [
        "preds, precision = precisionAnalysis(preds, \"anomalyScore\", 0.75)\n",
        "print(\"Precision at 75% recall\", precision)"
      ],
      "execution_count": 61,
      "outputs": [
        {
          "output_type": "stream",
          "text": [
            "Precision at 75% recall 0.8367346938775511\n"
          ],
          "name": "stdout"
        }
      ]
    },
    {
      "cell_type": "markdown",
      "metadata": {
        "id": "gt_mmTsTWYxl",
        "colab_type": "text"
      },
      "source": [
        "The precision as the 75% recall level delivered by the unsupervised solution is at 83%. An improvement over the supervised method.\n",
        "\n",
        "## Semisupervised Method\n",
        "\n",
        "For the semisupervised approach, we take the representation learned by the autoencoder (hidden layer), combine it with the original (not oversampled) training dataset and feed it into the gradient boosted algorithm.\n",
        "\n",
        "To get the hidden layer we use the `Model` class from Keras API and its `get_layer` method:"
      ]
    },
    {
      "cell_type": "code",
      "metadata": {
        "id": "6V6Ikw_vWReL",
        "colab_type": "code",
        "colab": {}
      },
      "source": [
        "layer_name = 'hidden_layer'\n",
        "\n",
        "intermediate_layer_model = Model(inputs=model.input, \\\n",
        "                                 outputs=model.get_layer(layer_name).output)\n",
        "intermediate_output_train = intermediate_layer_model.predict(X_train_original)\n",
        "intermediate_output_test = intermediate_layer_model.predict(X_test_original)"
      ],
      "execution_count": 0,
      "outputs": []
    },
    {
      "cell_type": "markdown",
      "metadata": {
        "id": "kkTpYMV5eZhM",
        "colab_type": "text"
      },
      "source": [
        "The autoencoder interpretations we've gotten above will be saved in DataFrames and combined with the original training and test sets."
      ]
    },
    {
      "cell_type": "code",
      "metadata": {
        "id": "09dTlILleJiy",
        "colab_type": "code",
        "colab": {}
      },
      "source": [
        "intermediate_output_trainDF = \\\n",
        "    pd.DataFrame(data=intermediate_output_train,index=X_train_original.index)\n",
        "intermediate_output_testDF = \\\n",
        "    pd.DataFrame(data=intermediate_output_test,index=X_test_original.index)"
      ],
      "execution_count": 0,
      "outputs": []
    },
    {
      "cell_type": "code",
      "metadata": {
        "id": "CcWqAGuseWpP",
        "colab_type": "code",
        "colab": {}
      },
      "source": [
        "X_train = X_train_original.merge(intermediate_output_trainDF, \\\n",
        "                                 left_index=True,right_index=True)\n",
        "X_test = X_test_original.merge(intermediate_output_testDF, \\\n",
        "                               left_index=True,right_index=True)\n",
        "y_train = y_train_original.copy()"
      ],
      "execution_count": 0,
      "outputs": []
    },
    {
      "cell_type": "markdown",
      "metadata": {
        "id": "YKm3EMp9fDam",
        "colab_type": "text"
      },
      "source": [
        "We now will train the gradient boosted algorithm on the data containing the original 29 features and the 40 features received from the autoencoder."
      ]
    },
    {
      "cell_type": "code",
      "metadata": {
        "id": "lryCVRN_ers3",
        "colab_type": "code",
        "colab": {}
      },
      "source": [
        "trainingScores = []\n",
        "cvScores = []\n",
        "predictionsBasedOnKFolds = pd.DataFrame(data=[],index=y_train.index, \\\n",
        "                                        columns=['prediction'])\n",
        "\n",
        "for train_index, cv_index in k_fold.split(np.zeros(len(X_train)), \\\n",
        "                                          y_train.ravel()):\n",
        "    X_train_fold, X_cv_fold = X_train.iloc[train_index,:], \\\n",
        "        X_train.iloc[cv_index,:]\n",
        "    y_train_fold, y_cv_fold = y_train.iloc[train_index], \\\n",
        "        y_train.iloc[cv_index]\n",
        "    \n",
        "    lgb_train = lgb.Dataset(X_train_fold, y_train_fold)\n",
        "    lgb_eval = lgb.Dataset(X_cv_fold, y_cv_fold, reference=lgb_train)\n",
        "    gbm = lgb.train(params_lightGB, lgb_train, num_boost_round=5000,\n",
        "                   valid_sets=lgb_eval, early_stopping_rounds=200)\n",
        "    \n",
        "    loglossTraining = log_loss(y_train_fold, \n",
        "                                gbm.predict(X_train_fold, \\\n",
        "                                num_iteration=gbm.best_iteration))\n",
        "    trainingScores.append(loglossTraining)\n",
        "    \n",
        "    predictionsBasedOnKFolds.loc[X_cv_fold.index,'prediction'] = \\\n",
        "        gbm.predict(X_cv_fold, num_iteration=gbm.best_iteration) \n",
        "    loglossCV = log_loss(y_cv_fold, \\\n",
        "            predictionsBasedOnKFolds.loc[X_cv_fold.index,'prediction'])\n",
        "    cvScores.append(loglossCV)\n",
        "    \n",
        "    print('Training Log Loss: ', loglossTraining)\n",
        "    print('CV Log Loss: ', loglossCV)\n",
        "    \n",
        "loglossLightGBMGradientBoosting = log_loss(y_train, \\\n",
        "                        predictionsBasedOnKFolds.loc[:,'prediction'])\n",
        "print('LightGBM Gradient Boosting Log Loss: ', \\\n",
        "                        loglossLightGBMGradientBoosting)"
      ],
      "execution_count": 0,
      "outputs": []
    },
    {
      "cell_type": "code",
      "metadata": {
        "id": "lF_ryWZRfOs5",
        "colab_type": "code",
        "colab": {
          "base_uri": "https://localhost:8080/",
          "height": 573
        },
        "outputId": "515f3a21-6772-4096-c71c-c510b48782fd"
      },
      "source": [
        "preds, average_precision = plotResults(y_train, \\\n",
        "                        predictionsBasedOnKFolds.loc[:,'prediction'], True)"
      ],
      "execution_count": 66,
      "outputs": [
        {
          "output_type": "display_data",
          "data": {
            "image/png": "[encoded data removed]",
            "text/plain": [
              "<Figure size 432x288 with 1 Axes>"
            ]
          },
          "metadata": {
            "tags": []
          }
        },
        {
          "output_type": "display_data",
          "data": {
            "image/png": "[encoded data removed]",
            "text/plain": [
              "<Figure size 432x288 with 1 Axes>"
            ]
          },
          "metadata": {
            "tags": []
          }
        }
      ]
    },
    {
      "cell_type": "code",
      "metadata": {
        "id": "lPwoFF09ghqU",
        "colab_type": "code",
        "colab": {
          "base_uri": "https://localhost:8080/",
          "height": 573
        },
        "outputId": "8e7d32d8-6f7e-45ac-953b-642240cf0859"
      },
      "source": [
        "predictions = pd.Series(data=gbm.predict(X_test, \\\n",
        "                    num_iteration=gbm.best_iteration),index=X_test.index)\n",
        "preds, average_precision = plotResults(y_test, predictions, True)"
      ],
      "execution_count": 67,
      "outputs": [
        {
          "output_type": "display_data",
          "data": {
            "image/png": "[encoded data removed]",
            "text/plain": [
              "<Figure size 432x288 with 1 Axes>"
            ]
          },
          "metadata": {
            "tags": []
          }
        },
        {
          "output_type": "display_data",
          "data": {
            "image/png": "[encoded data removed]",
            "text/plain": [
              "<Figure size 432x288 with 1 Axes>"
            ]
          },
          "metadata": {
            "tags": []
          }
        }
      ]
    },
    {
      "cell_type": "code",
      "metadata": {
        "id": "iPgsL_ccgk-3",
        "colab_type": "code",
        "colab": {
          "base_uri": "https://localhost:8080/",
          "height": 34
        },
        "outputId": "4fdb3823-4720-46e6-a4ef-bca58f734d85"
      },
      "source": [
        "preds, precision = precisionAnalysis(preds, \"anomalyScore\", 0.75)\n",
        "print(precision)"
      ],
      "execution_count": 68,
      "outputs": [
        {
          "output_type": "stream",
          "text": [
            "0.9609375\n"
          ],
          "name": "stdout"
        }
      ]
    },
    {
      "cell_type": "markdown",
      "metadata": {
        "id": "04kBI5c4jVah",
        "colab_type": "text"
      },
      "source": [
        "Now there is a huge improvement: 96% precision at the 75% recall rate.\n",
        "\n",
        "## The Power of Semisupervised Learning\n",
        "\n",
        "The semisupervised solution has outdone both the supervised and unsupervised algorithms. Let's see what features were the most important in the semisupervised model:"
      ]
    },
    {
      "cell_type": "code",
      "metadata": {
        "id": "MwEwdta_gq4f",
        "colab_type": "code",
        "colab": {
          "base_uri": "https://localhost:8080/",
          "height": 1969
        },
        "outputId": "c1e0be24-890c-487d-e113-ab3044d04696"
      },
      "source": [
        "featuresImportance = pd.DataFrame(data=list(gbm.feature_importance()), \\\n",
        "                        index=X_train.columns,columns=['featImportance'])\n",
        "featuresImportance = featuresImportance/featuresImportance.sum()\n",
        "featuresImportance.sort_values(by='featImportance', \\\n",
        "                               ascending=False,inplace=True)\n",
        "featuresImportance"
      ],
      "execution_count": 69,
      "outputs": [
        {
          "output_type": "execute_result",
          "data": {
            "text/html": [
              "<div>\n",
              "<style scoped>\n",
              "    .dataframe tbody tr th:only-of-type {\n",
              "        vertical-align: middle;\n",
              "    }\n",
              "\n",
              "    .dataframe tbody tr th {\n",
              "        vertical-align: top;\n",
              "    }\n",
              "\n",
              "    .dataframe thead th {\n",
              "        text-align: right;\n",
              "    }\n",
              "</style>\n",
              "<table border=\"1\" class=\"dataframe\">\n",
              "  <thead>\n",
              "    <tr style=\"text-align: right;\">\n",
              "      <th></th>\n",
              "      <th>featImportance</th>\n",
              "    </tr>\n",
              "  </thead>\n",
              "  <tbody>\n",
              "    <tr>\n",
              "      <th>17</th>\n",
              "      <td>0.094392</td>\n",
              "    </tr>\n",
              "    <tr>\n",
              "      <th>9</th>\n",
              "      <td>0.077457</td>\n",
              "    </tr>\n",
              "    <tr>\n",
              "      <th>Amount</th>\n",
              "      <td>0.072737</td>\n",
              "    </tr>\n",
              "    <tr>\n",
              "      <th>29</th>\n",
              "      <td>0.048584</td>\n",
              "    </tr>\n",
              "    <tr>\n",
              "      <th>32</th>\n",
              "      <td>0.038590</td>\n",
              "    </tr>\n",
              "    <tr>\n",
              "      <th>V15</th>\n",
              "      <td>0.037479</td>\n",
              "    </tr>\n",
              "    <tr>\n",
              "      <th>12</th>\n",
              "      <td>0.029706</td>\n",
              "    </tr>\n",
              "    <tr>\n",
              "      <th>V12</th>\n",
              "      <td>0.027207</td>\n",
              "    </tr>\n",
              "    <tr>\n",
              "      <th>7</th>\n",
              "      <td>0.026929</td>\n",
              "    </tr>\n",
              "    <tr>\n",
              "      <th>V21</th>\n",
              "      <td>0.025819</td>\n",
              "    </tr>\n",
              "    <tr>\n",
              "      <th>18</th>\n",
              "      <td>0.025819</td>\n",
              "    </tr>\n",
              "    <tr>\n",
              "      <th>V26</th>\n",
              "      <td>0.024708</td>\n",
              "    </tr>\n",
              "    <tr>\n",
              "      <th>V25</th>\n",
              "      <td>0.024153</td>\n",
              "    </tr>\n",
              "    <tr>\n",
              "      <th>16</th>\n",
              "      <td>0.023876</td>\n",
              "    </tr>\n",
              "    <tr>\n",
              "      <th>4</th>\n",
              "      <td>0.022488</td>\n",
              "    </tr>\n",
              "    <tr>\n",
              "      <th>31</th>\n",
              "      <td>0.022210</td>\n",
              "    </tr>\n",
              "    <tr>\n",
              "      <th>39</th>\n",
              "      <td>0.021377</td>\n",
              "    </tr>\n",
              "    <tr>\n",
              "      <th>1</th>\n",
              "      <td>0.020267</td>\n",
              "    </tr>\n",
              "    <tr>\n",
              "      <th>V19</th>\n",
              "      <td>0.018601</td>\n",
              "    </tr>\n",
              "    <tr>\n",
              "      <th>19</th>\n",
              "      <td>0.017213</td>\n",
              "    </tr>\n",
              "    <tr>\n",
              "      <th>14</th>\n",
              "      <td>0.016380</td>\n",
              "    </tr>\n",
              "    <tr>\n",
              "      <th>27</th>\n",
              "      <td>0.015269</td>\n",
              "    </tr>\n",
              "    <tr>\n",
              "      <th>V13</th>\n",
              "      <td>0.014714</td>\n",
              "    </tr>\n",
              "    <tr>\n",
              "      <th>V3</th>\n",
              "      <td>0.013604</td>\n",
              "    </tr>\n",
              "    <tr>\n",
              "      <th>V14</th>\n",
              "      <td>0.012771</td>\n",
              "    </tr>\n",
              "    <tr>\n",
              "      <th>28</th>\n",
              "      <td>0.011660</td>\n",
              "    </tr>\n",
              "    <tr>\n",
              "      <th>V4</th>\n",
              "      <td>0.011383</td>\n",
              "    </tr>\n",
              "    <tr>\n",
              "      <th>V23</th>\n",
              "      <td>0.011105</td>\n",
              "    </tr>\n",
              "    <tr>\n",
              "      <th>V22</th>\n",
              "      <td>0.009994</td>\n",
              "    </tr>\n",
              "    <tr>\n",
              "      <th>V16</th>\n",
              "      <td>0.009439</td>\n",
              "    </tr>\n",
              "    <tr>\n",
              "      <th>...</th>\n",
              "      <td>...</td>\n",
              "    </tr>\n",
              "    <tr>\n",
              "      <th>33</th>\n",
              "      <td>0.007496</td>\n",
              "    </tr>\n",
              "    <tr>\n",
              "      <th>2</th>\n",
              "      <td>0.007496</td>\n",
              "    </tr>\n",
              "    <tr>\n",
              "      <th>30</th>\n",
              "      <td>0.007218</td>\n",
              "    </tr>\n",
              "    <tr>\n",
              "      <th>10</th>\n",
              "      <td>0.006385</td>\n",
              "    </tr>\n",
              "    <tr>\n",
              "      <th>26</th>\n",
              "      <td>0.005552</td>\n",
              "    </tr>\n",
              "    <tr>\n",
              "      <th>V18</th>\n",
              "      <td>0.005552</td>\n",
              "    </tr>\n",
              "    <tr>\n",
              "      <th>38</th>\n",
              "      <td>0.004997</td>\n",
              "    </tr>\n",
              "    <tr>\n",
              "      <th>0</th>\n",
              "      <td>0.004442</td>\n",
              "    </tr>\n",
              "    <tr>\n",
              "      <th>V20</th>\n",
              "      <td>0.004164</td>\n",
              "    </tr>\n",
              "    <tr>\n",
              "      <th>23</th>\n",
              "      <td>0.003887</td>\n",
              "    </tr>\n",
              "    <tr>\n",
              "      <th>V28</th>\n",
              "      <td>0.003609</td>\n",
              "    </tr>\n",
              "    <tr>\n",
              "      <th>V2</th>\n",
              "      <td>0.003609</td>\n",
              "    </tr>\n",
              "    <tr>\n",
              "      <th>V24</th>\n",
              "      <td>0.003609</td>\n",
              "    </tr>\n",
              "    <tr>\n",
              "      <th>25</th>\n",
              "      <td>0.003609</td>\n",
              "    </tr>\n",
              "    <tr>\n",
              "      <th>V5</th>\n",
              "      <td>0.003331</td>\n",
              "    </tr>\n",
              "    <tr>\n",
              "      <th>11</th>\n",
              "      <td>0.003054</td>\n",
              "    </tr>\n",
              "    <tr>\n",
              "      <th>V1</th>\n",
              "      <td>0.002776</td>\n",
              "    </tr>\n",
              "    <tr>\n",
              "      <th>3</th>\n",
              "      <td>0.002776</td>\n",
              "    </tr>\n",
              "    <tr>\n",
              "      <th>V8</th>\n",
              "      <td>0.002499</td>\n",
              "    </tr>\n",
              "    <tr>\n",
              "      <th>15</th>\n",
              "      <td>0.001943</td>\n",
              "    </tr>\n",
              "    <tr>\n",
              "      <th>V10</th>\n",
              "      <td>0.001666</td>\n",
              "    </tr>\n",
              "    <tr>\n",
              "      <th>37</th>\n",
              "      <td>0.001666</td>\n",
              "    </tr>\n",
              "    <tr>\n",
              "      <th>36</th>\n",
              "      <td>0.001388</td>\n",
              "    </tr>\n",
              "    <tr>\n",
              "      <th>V11</th>\n",
              "      <td>0.000833</td>\n",
              "    </tr>\n",
              "    <tr>\n",
              "      <th>6</th>\n",
              "      <td>0.000555</td>\n",
              "    </tr>\n",
              "    <tr>\n",
              "      <th>35</th>\n",
              "      <td>0.000278</td>\n",
              "    </tr>\n",
              "    <tr>\n",
              "      <th>V7</th>\n",
              "      <td>0.000278</td>\n",
              "    </tr>\n",
              "    <tr>\n",
              "      <th>22</th>\n",
              "      <td>0.000000</td>\n",
              "    </tr>\n",
              "    <tr>\n",
              "      <th>V27</th>\n",
              "      <td>0.000000</td>\n",
              "    </tr>\n",
              "    <tr>\n",
              "      <th>5</th>\n",
              "      <td>0.000000</td>\n",
              "    </tr>\n",
              "  </tbody>\n",
              "</table>\n",
              "<p>69 rows × 1 columns</p>\n",
              "</div>"
            ],
            "text/plain": [
              "        featImportance\n",
              "17            0.094392\n",
              "9             0.077457\n",
              "Amount        0.072737\n",
              "29            0.048584\n",
              "32            0.038590\n",
              "V15           0.037479\n",
              "12            0.029706\n",
              "V12           0.027207\n",
              "7             0.026929\n",
              "V21           0.025819\n",
              "18            0.025819\n",
              "V26           0.024708\n",
              "V25           0.024153\n",
              "16            0.023876\n",
              "4             0.022488\n",
              "31            0.022210\n",
              "39            0.021377\n",
              "1             0.020267\n",
              "V19           0.018601\n",
              "19            0.017213\n",
              "14            0.016380\n",
              "27            0.015269\n",
              "V13           0.014714\n",
              "V3            0.013604\n",
              "V14           0.012771\n",
              "28            0.011660\n",
              "V4            0.011383\n",
              "V23           0.011105\n",
              "V22           0.009994\n",
              "V16           0.009439\n",
              "...                ...\n",
              "33            0.007496\n",
              "2             0.007496\n",
              "30            0.007218\n",
              "10            0.006385\n",
              "26            0.005552\n",
              "V18           0.005552\n",
              "38            0.004997\n",
              "0             0.004442\n",
              "V20           0.004164\n",
              "23            0.003887\n",
              "V28           0.003609\n",
              "V2            0.003609\n",
              "V24           0.003609\n",
              "25            0.003609\n",
              "V5            0.003331\n",
              "11            0.003054\n",
              "V1            0.002776\n",
              "3             0.002776\n",
              "V8            0.002499\n",
              "15            0.001943\n",
              "V10           0.001666\n",
              "37            0.001666\n",
              "36            0.001388\n",
              "V11           0.000833\n",
              "6             0.000555\n",
              "35            0.000278\n",
              "V7            0.000278\n",
              "22            0.000000\n",
              "V27           0.000000\n",
              "5             0.000000\n",
              "\n",
              "[69 rows x 1 columns]"
            ]
          },
          "metadata": {
            "tags": []
          },
          "execution_count": 69
        }
      ]
    },
    {
      "cell_type": "markdown",
      "metadata": {
        "id": "q-8BWkhVkLIf",
        "colab_type": "text"
      },
      "source": [
        "One can see, that the features delivered by the hidden layer of the autoencoder turned out to be one of the most important ones. Four out of the top five features are from the hidden layer."
      ]
    },
    {
      "cell_type": "code",
      "metadata": {
        "id": "5Dk6kXHtj99A",
        "colab_type": "code",
        "colab": {}
      },
      "source": [
        ""
      ],
      "execution_count": 0,
      "outputs": []
    }
  ]
}