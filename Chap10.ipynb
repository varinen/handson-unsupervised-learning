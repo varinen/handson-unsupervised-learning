{
  "nbformat": 4,
  "nbformat_minor": 0,
  "metadata": {
    "colab": {
      "name": "Chap10.ipynb",
      "version": "0.3.2",
      "provenance": [],
      "collapsed_sections": [],
      "include_colab_link": true
    },
    "kernelspec": {
      "name": "python3",
      "display_name": "Python 3"
    }
  },
  "cells": [
    {
      "cell_type": "markdown",
      "metadata": {
        "id": "view-in-github",
        "colab_type": "text"
      },
      "source": [
        "<a href=\"https://colab.research.google.com/github/varinen/handson-unsupervised-learning/blob/master/Chap10.ipynb\" target=\"_parent\"><img src=\"https://colab.research.google.com/assets/colab-badge.svg\" alt=\"Open In Colab\"/></a>"
      ]
    },
    {
      "cell_type": "markdown",
      "metadata": {
        "id": "4N8wD2Eps0uV",
        "colab_type": "text"
      },
      "source": [
        "# Recommender System Using Restricted Boltzmann Machines\n",
        "\n",
        "We are going to work with *generative models* that learn the probability distribution of the data. They use this knowledge to make inferences on never-before-seen data that is they produce new data that is very close to the real data.\n",
        "\n",
        "The simplest generative model is the **restricted Boltzmann machine**.\n",
        "\n",
        "## Boltzmann Machines\n",
        "\n",
        "Boltzmann Machines were invented in 1985 by Geoffrey Hinton and Terry Sejnowski. **Unrestricted Boltzmann machines** consist of one input layer and one or several hidden layers. During training, neurons in the layers make stochastic decisions when to fire or not based on input data fed to the machine and a cost function that this machine tries to minimize. As a result of this training, a Boltzmann machine learns interesting features about the data that help it to model the complex relationships and patterns in the original dataset.\n",
        "\n",
        "However, neurons in such machines are connected not only to neurons in other layers but also to other neurons within the same layer. This makes the training of unrestricted Boltzmann machines very inefficient.\n",
        "\n",
        "### Restricted Boltzmann Machines\n",
        "\n",
        "A simpler version of Boltzmann machines was proposed by Hinton in 2000. It consists only of one input and one hidden layer. It is also **restricted** so that neurons can only connect to neurons on other layers but not within the same one.\n",
        "\n",
        "It was demonstrated that stacking of several restricted Boltzmann machines (the output on the hidden layer of one machine is fed into the input layer of the next one) can help to learn more nuanced hidden structures in data.\n",
        "\n",
        "Boltzmann machines use a *stochastic* approach to learning while autoencoders use a *deterministic* approach.\n",
        "\n",
        "\n",
        "For this project, we are going to build a recommender system using restricted Boltzmann machines. The recommendations are based on the MovieLens dataset.\n"
      ]
    },
    {
      "cell_type": "code",
      "metadata": {
        "id": "hZJALNv5m5ga",
        "colab_type": "code",
        "colab": {
          "base_uri": "https://localhost:8080/",
          "height": 34
        },
        "outputId": "1c27a6b5-f66e-403f-956b-4388adfe3a16"
      },
      "source": [
        "'''Main'''\n",
        "import numpy as np\n",
        "import pandas as pd\n",
        "import os, time, re\n",
        "import pickle, gzip, datetime\n",
        "from datetime import datetime\n",
        "\n",
        "'''Data Viz'''\n",
        "import matplotlib.pyplot as plt\n",
        "import seaborn as sns\n",
        "color = sns.color_palette()\n",
        "import matplotlib as mpl\n",
        "\n",
        "%matplotlib inline\n",
        "\n",
        "'''Data Prep and Model Evaluation'''\n",
        "from sklearn import preprocessing as pp\n",
        "from sklearn.model_selection import train_test_split \n",
        "from sklearn.model_selection import StratifiedKFold \n",
        "from sklearn.metrics import log_loss\n",
        "from sklearn.metrics import precision_recall_curve, average_precision_score\n",
        "from sklearn.metrics import roc_curve, auc, roc_auc_score, mean_squared_error\n",
        "\n",
        "'''Algos'''\n",
        "import lightgbm as lgb\n",
        "\n",
        "'''TensorFlow and Keras'''\n",
        "import tensorflow as tf\n",
        "import keras\n",
        "from keras import backend as K\n",
        "from keras.models import Sequential, Model\n",
        "from keras.layers import Activation, Dense, Dropout\n",
        "from keras.layers import BatchNormalization, Input, Lambda\n",
        "from keras.layers import Embedding, Flatten, dot\n",
        "from keras import regularizers\n",
        "from keras.losses import mse, binary_crossentropy"
      ],
      "execution_count": 1,
      "outputs": [
        {
          "output_type": "stream",
          "text": [
            "Using TensorFlow backend.\n"
          ],
          "name": "stderr"
        }
      ]
    },
    {
      "cell_type": "markdown",
      "metadata": {
        "id": "rJPE2SH2nG8v",
        "colab_type": "text"
      },
      "source": [
        "Next, we are going to load the dataset. The dataset is located on Google drive and this will require some additional code to get access to the file."
      ]
    },
    {
      "cell_type": "code",
      "metadata": {
        "id": "X_PrhZIhnVNp",
        "colab_type": "code",
        "colab": {}
      },
      "source": [
        "!pip install -U -q PyDrive\n",
        "from pydrive.auth import GoogleAuth\n",
        "from pydrive.drive import GoogleDrive\n",
        "from google.colab import auth\n",
        "from oauth2client.client import GoogleCredentials\n",
        "# Authenticate and create the PyDrive client.\n",
        "auth.authenticate_user()\n",
        "gauth = GoogleAuth()\n",
        "gauth.credentials = GoogleCredentials.get_application_default()"
      ],
      "execution_count": 0,
      "outputs": []
    },
    {
      "cell_type": "code",
      "metadata": {
        "id": "SYew5jccnaWy",
        "colab_type": "code",
        "outputId": "e8af82c0-0a4e-426b-9514-8af8cbc878cb",
        "colab": {
          "base_uri": "https://localhost:8080/",
          "height": 34
        }
      },
      "source": [
        "drive = GoogleDrive(gauth)\n",
        "\n",
        "shareable_link = 'https://drive.google.com/open?id=1trRaJZ639WysCW8mLpmFS1f55o3YYsNq'\n",
        "fluff, id = shareable_link.split('=')\n",
        "print(id)\n"
      ],
      "execution_count": 0,
      "outputs": [
        {
          "output_type": "stream",
          "text": [
            "1trRaJZ639WysCW8mLpmFS1f55o3YYsNq\n"
          ],
          "name": "stdout"
        }
      ]
    },
    {
      "cell_type": "code",
      "metadata": {
        "id": "YC9o4vpin41A",
        "colab_type": "code",
        "colab": {}
      },
      "source": [
        "downloaded = drive.CreateFile({'id':id}) \n",
        "downloaded.GetContentFile('Filename.csv')  \n",
        "data = pd.read_csv('Filename.csv')"
      ],
      "execution_count": 0,
      "outputs": []
    },
    {
      "cell_type": "code",
      "metadata": {
        "id": "EB-rNigRn6G7",
        "colab_type": "code",
        "outputId": "6720c871-cf64-4a3a-87d6-51d9fadb3ab4",
        "colab": {
          "base_uri": "https://localhost:8080/",
          "height": 195
        }
      },
      "source": [
        "data.head()"
      ],
      "execution_count": 0,
      "outputs": [
        {
          "output_type": "execute_result",
          "data": {
            "text/html": [
              "<div>\n",
              "<style scoped>\n",
              "    .dataframe tbody tr th:only-of-type {\n",
              "        vertical-align: middle;\n",
              "    }\n",
              "\n",
              "    .dataframe tbody tr th {\n",
              "        vertical-align: top;\n",
              "    }\n",
              "\n",
              "    .dataframe thead th {\n",
              "        text-align: right;\n",
              "    }\n",
              "</style>\n",
              "<table border=\"1\" class=\"dataframe\">\n",
              "  <thead>\n",
              "    <tr style=\"text-align: right;\">\n",
              "      <th></th>\n",
              "      <th>userId</th>\n",
              "      <th>movieId</th>\n",
              "      <th>rating</th>\n",
              "      <th>timestamp</th>\n",
              "    </tr>\n",
              "  </thead>\n",
              "  <tbody>\n",
              "    <tr>\n",
              "      <th>0</th>\n",
              "      <td>1</td>\n",
              "      <td>2</td>\n",
              "      <td>3.5</td>\n",
              "      <td>1112486027</td>\n",
              "    </tr>\n",
              "    <tr>\n",
              "      <th>1</th>\n",
              "      <td>1</td>\n",
              "      <td>29</td>\n",
              "      <td>3.5</td>\n",
              "      <td>1112484676</td>\n",
              "    </tr>\n",
              "    <tr>\n",
              "      <th>2</th>\n",
              "      <td>1</td>\n",
              "      <td>32</td>\n",
              "      <td>3.5</td>\n",
              "      <td>1112484819</td>\n",
              "    </tr>\n",
              "    <tr>\n",
              "      <th>3</th>\n",
              "      <td>1</td>\n",
              "      <td>47</td>\n",
              "      <td>3.5</td>\n",
              "      <td>1112484727</td>\n",
              "    </tr>\n",
              "    <tr>\n",
              "      <th>4</th>\n",
              "      <td>1</td>\n",
              "      <td>50</td>\n",
              "      <td>3.5</td>\n",
              "      <td>1112484580</td>\n",
              "    </tr>\n",
              "  </tbody>\n",
              "</table>\n",
              "</div>"
            ],
            "text/plain": [
              "   userId  movieId  rating   timestamp\n",
              "0       1        2     3.5  1112486027\n",
              "1       1       29     3.5  1112484676\n",
              "2       1       32     3.5  1112484819\n",
              "3       1       47     3.5  1112484727\n",
              "4       1       50     3.5  1112484580"
            ]
          },
          "metadata": {
            "tags": []
          },
          "execution_count": 7
        }
      ]
    },
    {
      "cell_type": "markdown",
      "metadata": {
        "id": "PYHYJK6boNEp",
        "colab_type": "text"
      },
      "source": [
        "The dataset entries have four columns: `user_id`, `movie_id`, `rating`. The last column, `timestamp`, indicates the time the rating was given. There are over 20 million ratings in the dataset."
      ]
    },
    {
      "cell_type": "code",
      "metadata": {
        "id": "gs5Nh1HJoJ8n",
        "colab_type": "code",
        "outputId": "6d2bb2e1-d092-474f-b8cb-814fc1ed1601",
        "colab": {
          "base_uri": "https://localhost:8080/",
          "height": 50
        }
      },
      "source": [
        "print(data.shape)\n",
        "'''\n",
        "MovieLens 20M Dataset\n",
        "20,000,263 ratings\n",
        "27,278 movies\n",
        "138,493 users\n",
        "'''"
      ],
      "execution_count": 0,
      "outputs": [
        {
          "output_type": "stream",
          "text": [
            "(20000263, 4)\n"
          ],
          "name": "stdout"
        },
        {
          "output_type": "execute_result",
          "data": {
            "text/plain": [
              "'\\nMovieLens 20M Dataset\\n20,000,263 ratings\\n27,278 movies\\n138,493 users\\n'"
            ]
          },
          "metadata": {
            "tags": []
          },
          "execution_count": 9
        }
      ]
    },
    {
      "cell_type": "markdown",
      "metadata": {
        "id": "MsbW8WRLpK2w",
        "colab_type": "text"
      },
      "source": [
        "Before we can proceed, we need to convert the dataset columns into appropriate data types."
      ]
    },
    {
      "cell_type": "code",
      "metadata": {
        "id": "5NqovW43ofak",
        "colab_type": "code",
        "outputId": "e574190e-75a8-47f7-b0aa-670cf973748a",
        "colab": {
          "base_uri": "https://localhost:8080/",
          "height": 195
        }
      },
      "source": [
        "ratingDF = data\n",
        "# Convert fields into appropriate data types\n",
        "ratingDF.userId = ratingDF.userId.astype(str).astype(int)\n",
        "ratingDF.movieId = ratingDF.movieId.astype(str).astype(int)\n",
        "ratingDF.rating = ratingDF.rating.astype(str).astype(float)\n",
        "ratingDF.timestamp = ratingDF.timestamp.apply(lambda x: \\\n",
        "                    datetime.utcfromtimestamp(x).strftime('%Y-%m-%d %H:%M:%S'))\n",
        "\n",
        "# Preview data\n",
        "ratingDF.head()"
      ],
      "execution_count": 0,
      "outputs": [
        {
          "output_type": "execute_result",
          "data": {
            "text/html": [
              "<div>\n",
              "<style scoped>\n",
              "    .dataframe tbody tr th:only-of-type {\n",
              "        vertical-align: middle;\n",
              "    }\n",
              "\n",
              "    .dataframe tbody tr th {\n",
              "        vertical-align: top;\n",
              "    }\n",
              "\n",
              "    .dataframe thead th {\n",
              "        text-align: right;\n",
              "    }\n",
              "</style>\n",
              "<table border=\"1\" class=\"dataframe\">\n",
              "  <thead>\n",
              "    <tr style=\"text-align: right;\">\n",
              "      <th></th>\n",
              "      <th>userId</th>\n",
              "      <th>movieId</th>\n",
              "      <th>rating</th>\n",
              "      <th>timestamp</th>\n",
              "    </tr>\n",
              "  </thead>\n",
              "  <tbody>\n",
              "    <tr>\n",
              "      <th>0</th>\n",
              "      <td>1</td>\n",
              "      <td>2</td>\n",
              "      <td>3.5</td>\n",
              "      <td>2005-04-02 23:53:47</td>\n",
              "    </tr>\n",
              "    <tr>\n",
              "      <th>1</th>\n",
              "      <td>1</td>\n",
              "      <td>29</td>\n",
              "      <td>3.5</td>\n",
              "      <td>2005-04-02 23:31:16</td>\n",
              "    </tr>\n",
              "    <tr>\n",
              "      <th>2</th>\n",
              "      <td>1</td>\n",
              "      <td>32</td>\n",
              "      <td>3.5</td>\n",
              "      <td>2005-04-02 23:33:39</td>\n",
              "    </tr>\n",
              "    <tr>\n",
              "      <th>3</th>\n",
              "      <td>1</td>\n",
              "      <td>47</td>\n",
              "      <td>3.5</td>\n",
              "      <td>2005-04-02 23:32:07</td>\n",
              "    </tr>\n",
              "    <tr>\n",
              "      <th>4</th>\n",
              "      <td>1</td>\n",
              "      <td>50</td>\n",
              "      <td>3.5</td>\n",
              "      <td>2005-04-02 23:29:40</td>\n",
              "    </tr>\n",
              "  </tbody>\n",
              "</table>\n",
              "</div>"
            ],
            "text/plain": [
              "   userId  movieId  rating            timestamp\n",
              "0       1        2     3.5  2005-04-02 23:53:47\n",
              "1       1       29     3.5  2005-04-02 23:31:16\n",
              "2       1       32     3.5  2005-04-02 23:33:39\n",
              "3       1       47     3.5  2005-04-02 23:32:07\n",
              "4       1       50     3.5  2005-04-02 23:29:40"
            ]
          },
          "metadata": {
            "tags": []
          },
          "execution_count": 10
        }
      ]
    },
    {
      "cell_type": "markdown",
      "metadata": {
        "id": "33mD9VEYraCs",
        "colab_type": "text"
      },
      "source": [
        "Let's save the transformed data into a pickle file for faster load in the future. I will mount my Google Drive and save the file there. For more details see https://towardsdatascience.com/downloading-datasets-into-google-drive-via-google-colab-bcb1b30b0166"
      ]
    },
    {
      "cell_type": "code",
      "metadata": {
        "id": "BqGnfDDGpc1z",
        "colab_type": "code",
        "outputId": "b3043985-e3c3-4d91-82b4-b9833f052687",
        "colab": {
          "base_uri": "https://localhost:8080/",
          "height": 121
        }
      },
      "source": [
        "from google.colab import drive\n",
        "drive.mount('/content/gdrive')"
      ],
      "execution_count": 2,
      "outputs": [
        {
          "output_type": "stream",
          "text": [
            "Go to this URL in a browser: https://accounts.google.com/o/oauth2/auth?client_id=947318989803-6bn6qk8qdgf4n4g3pfee6491hc0brc4i.apps.googleusercontent.com&redirect_uri=urn%3Aietf%3Awg%3Aoauth%3A2.0%3Aoob&scope=email%20https%3A%2F%2Fwww.googleapis.com%2Fauth%2Fdocs.test%20https%3A%2F%2Fwww.googleapis.com%2Fauth%2Fdrive%20https%3A%2F%2Fwww.googleapis.com%2Fauth%2Fdrive.photos.readonly%20https%3A%2F%2Fwww.googleapis.com%2Fauth%2Fpeopleapi.readonly&response_type=code\n",
            "\n",
            "Enter your authorization code:\n",
            "··········\n",
            "Mounted at /content/gdrive\n"
          ],
          "name": "stdout"
        }
      ]
    },
    {
      "cell_type": "code",
      "metadata": {
        "id": "nyrqkz4rqB8d",
        "colab_type": "code",
        "colab": {}
      },
      "source": [
        "current_path = 'gdrive/My Drive/Colab Notebooks/movielens_data/'\n",
        "pickle_file = 'ratingPickle'\n",
        "#ratingDF.to_pickle(current_path + pickle_file)\n",
        "ratingDF = pd.read_pickle(current_path + pickle_file)"
      ],
      "execution_count": 0,
      "outputs": []
    },
    {
      "cell_type": "code",
      "metadata": {
        "id": "RO976APCq0Qe",
        "colab_type": "code",
        "outputId": "02e99234-66c8-4188-c43e-de707327e1bd",
        "colab": {
          "base_uri": "https://localhost:8080/",
          "height": 204
        }
      },
      "source": [
        "ratingDF.head()"
      ],
      "execution_count": 0,
      "outputs": [
        {
          "output_type": "execute_result",
          "data": {
            "text/html": [
              "<div>\n",
              "<style scoped>\n",
              "    .dataframe tbody tr th:only-of-type {\n",
              "        vertical-align: middle;\n",
              "    }\n",
              "\n",
              "    .dataframe tbody tr th {\n",
              "        vertical-align: top;\n",
              "    }\n",
              "\n",
              "    .dataframe thead th {\n",
              "        text-align: right;\n",
              "    }\n",
              "</style>\n",
              "<table border=\"1\" class=\"dataframe\">\n",
              "  <thead>\n",
              "    <tr style=\"text-align: right;\">\n",
              "      <th></th>\n",
              "      <th>userId</th>\n",
              "      <th>movieId</th>\n",
              "      <th>rating</th>\n",
              "      <th>timestamp</th>\n",
              "    </tr>\n",
              "  </thead>\n",
              "  <tbody>\n",
              "    <tr>\n",
              "      <th>0</th>\n",
              "      <td>1</td>\n",
              "      <td>2</td>\n",
              "      <td>3.5</td>\n",
              "      <td>2005-04-02 23:53:47</td>\n",
              "    </tr>\n",
              "    <tr>\n",
              "      <th>1</th>\n",
              "      <td>1</td>\n",
              "      <td>29</td>\n",
              "      <td>3.5</td>\n",
              "      <td>2005-04-02 23:31:16</td>\n",
              "    </tr>\n",
              "    <tr>\n",
              "      <th>2</th>\n",
              "      <td>1</td>\n",
              "      <td>32</td>\n",
              "      <td>3.5</td>\n",
              "      <td>2005-04-02 23:33:39</td>\n",
              "    </tr>\n",
              "    <tr>\n",
              "      <th>3</th>\n",
              "      <td>1</td>\n",
              "      <td>47</td>\n",
              "      <td>3.5</td>\n",
              "      <td>2005-04-02 23:32:07</td>\n",
              "    </tr>\n",
              "    <tr>\n",
              "      <th>4</th>\n",
              "      <td>1</td>\n",
              "      <td>50</td>\n",
              "      <td>3.5</td>\n",
              "      <td>2005-04-02 23:29:40</td>\n",
              "    </tr>\n",
              "  </tbody>\n",
              "</table>\n",
              "</div>"
            ],
            "text/plain": [
              "   userId  movieId  rating            timestamp\n",
              "0       1        2     3.5  2005-04-02 23:53:47\n",
              "1       1       29     3.5  2005-04-02 23:31:16\n",
              "2       1       32     3.5  2005-04-02 23:33:39\n",
              "3       1       47     3.5  2005-04-02 23:32:07\n",
              "4       1       50     3.5  2005-04-02 23:29:40"
            ]
          },
          "metadata": {
            "tags": []
          },
          "execution_count": 58
        }
      ]
    },
    {
      "cell_type": "markdown",
      "metadata": {
        "id": "lQlwNo4bw5pk",
        "colab_type": "text"
      },
      "source": [
        "Let's find out the number of unique users, movies, and calculate the average number of the ratings per user."
      ]
    },
    {
      "cell_type": "code",
      "metadata": {
        "id": "Q7s-e9SrrE9s",
        "colab_type": "code",
        "outputId": "c1375a25-e880-4a99-8e8e-29aa20d849d9",
        "colab": {
          "base_uri": "https://localhost:8080/",
          "height": 84
        }
      },
      "source": [
        "n_users = ratingDF.userId.unique().shape[0]\n",
        "print(f'number of users: {n_users}')\n",
        "n_movies = ratingDF.movieId.unique().shape[0]\n",
        "print(f'number of movies: {n_movies}')\n",
        "n_ratings = len(ratingDF)\n",
        "print(f'number of ratings: {n_ratings}')\n",
        "\n",
        "avg_ratings_per_user = n_ratings/n_users\n",
        "print(f'avg number of ratings per user: {avg_ratings_per_user}')"
      ],
      "execution_count": 5,
      "outputs": [
        {
          "output_type": "stream",
          "text": [
            "number of users: 138493\n",
            "number of movies: 26744\n",
            "number of ratings: 20000263\n",
            "avg number of ratings per user: 144.4135299257002\n"
          ],
          "name": "stdout"
        }
      ]
    },
    {
      "cell_type": "markdown",
      "metadata": {
        "id": "R6vC4IkuytX5",
        "colab_type": "text"
      },
      "source": [
        "To reduce the size and complexity of this dataset, we will consider only the 1000 top-rated movies. This will bring down the dataset size from 20 million to about 12.8 million."
      ]
    },
    {
      "cell_type": "code",
      "metadata": {
        "id": "IoK1rV_OxKIW",
        "colab_type": "code",
        "outputId": "b3344f2c-0106-4410-e368-0277cb8e4d15",
        "colab": {
          "base_uri": "https://localhost:8080/",
          "height": 101
        }
      },
      "source": [
        "# Reduce size of dataset by taking top 1000 movies\n",
        "movieIndex = ratingDF.groupby(\"movieId\").count().sort_values(by= \\\n",
        "                \"rating\",ascending=False)[0:1000].index\n",
        "\n",
        "ratingDFX2 = ratingDF[ratingDF.movieId.isin(movieIndex)]\n",
        "ratingDFX2.count()"
      ],
      "execution_count": 6,
      "outputs": [
        {
          "output_type": "execute_result",
          "data": {
            "text/plain": [
              "userId       12840344\n",
              "movieId      12840344\n",
              "rating       12840344\n",
              "timestamp    12840344\n",
              "dtype: int64"
            ]
          },
          "metadata": {
            "tags": []
          },
          "execution_count": 6
        }
      ]
    },
    {
      "cell_type": "markdown",
      "metadata": {
        "id": "794l2AuyzYQy",
        "colab_type": "text"
      },
      "source": [
        "To further reduce the dataset, we will sample 1000 random users and filter the dataset only for these users. This will result in a dataset of just 90k entries."
      ]
    },
    {
      "cell_type": "code",
      "metadata": {
        "id": "jSihh7UOzHFJ",
        "colab_type": "code",
        "outputId": "56b3aad0-1799-499c-feef-7dd217317f71",
        "colab": {
          "base_uri": "https://localhost:8080/",
          "height": 101
        }
      },
      "source": [
        "# Reduce size of dataset by sampling 1000 users\n",
        "userIndex = ratingDFX2.groupby(\"userId\").count().sort_values(by= \\\n",
        "    \"rating\",ascending=False).sample(n=1000, random_state=2018).index\n",
        "ratingDFX3 = ratingDFX2[ratingDFX2.userId.isin(userIndex)]\n",
        "ratingDFX3.count()"
      ],
      "execution_count": 0,
      "outputs": [
        {
          "output_type": "execute_result",
          "data": {
            "text/plain": [
              "userId       90213\n",
              "movieId      90213\n",
              "rating       90213\n",
              "timestamp    90213\n",
              "dtype: int64"
            ]
          },
          "metadata": {
            "tags": []
          },
          "execution_count": 25
        }
      ]
    },
    {
      "cell_type": "markdown",
      "metadata": {
        "id": "HKtl1Lbc0HIH",
        "colab_type": "text"
      },
      "source": [
        "We will also reindex the movie ID and user ID in range of 1 to 1000:"
      ]
    },
    {
      "cell_type": "code",
      "metadata": {
        "id": "SYwjZA8nzuJO",
        "colab_type": "code",
        "outputId": "72cf5f8c-f466-48fc-882d-2bc178f0b495",
        "colab": {
          "base_uri": "https://localhost:8080/",
          "height": 195
        }
      },
      "source": [
        "movies = ratingDFX3.movieId.unique()\n",
        "moviesDF = pd.DataFrame(data=movies, columns=['originalMovieId'])\n",
        "moviesDF['newMovieId'] = moviesDF.index + 1\n",
        "moviesDF.head()"
      ],
      "execution_count": 0,
      "outputs": [
        {
          "output_type": "execute_result",
          "data": {
            "text/html": [
              "<div>\n",
              "<style scoped>\n",
              "    .dataframe tbody tr th:only-of-type {\n",
              "        vertical-align: middle;\n",
              "    }\n",
              "\n",
              "    .dataframe tbody tr th {\n",
              "        vertical-align: top;\n",
              "    }\n",
              "\n",
              "    .dataframe thead th {\n",
              "        text-align: right;\n",
              "    }\n",
              "</style>\n",
              "<table border=\"1\" class=\"dataframe\">\n",
              "  <thead>\n",
              "    <tr style=\"text-align: right;\">\n",
              "      <th></th>\n",
              "      <th>originalMovieId</th>\n",
              "      <th>newMovieId</th>\n",
              "    </tr>\n",
              "  </thead>\n",
              "  <tbody>\n",
              "    <tr>\n",
              "      <th>0</th>\n",
              "      <td>50</td>\n",
              "      <td>1</td>\n",
              "    </tr>\n",
              "    <tr>\n",
              "      <th>1</th>\n",
              "      <td>163</td>\n",
              "      <td>2</td>\n",
              "    </tr>\n",
              "    <tr>\n",
              "      <th>2</th>\n",
              "      <td>216</td>\n",
              "      <td>3</td>\n",
              "    </tr>\n",
              "    <tr>\n",
              "      <th>3</th>\n",
              "      <td>296</td>\n",
              "      <td>4</td>\n",
              "    </tr>\n",
              "    <tr>\n",
              "      <th>4</th>\n",
              "      <td>333</td>\n",
              "      <td>5</td>\n",
              "    </tr>\n",
              "  </tbody>\n",
              "</table>\n",
              "</div>"
            ],
            "text/plain": [
              "   originalMovieId  newMovieId\n",
              "0               50           1\n",
              "1              163           2\n",
              "2              216           3\n",
              "3              296           4\n",
              "4              333           5"
            ]
          },
          "metadata": {
            "tags": []
          },
          "execution_count": 34
        }
      ]
    },
    {
      "cell_type": "code",
      "metadata": {
        "id": "Ui8fTnKE0zga",
        "colab_type": "code",
        "outputId": "27cf99f5-4e86-47b5-dfdd-85d1f357eed7",
        "colab": {
          "base_uri": "https://localhost:8080/",
          "height": 195
        }
      },
      "source": [
        "users = ratingDFX3.userId.unique()\n",
        "usersDF = pd.DataFrame(data=users, columns=['originalUserId'])\n",
        "usersDF['newUserId'] = usersDF.index + 1\n",
        "usersDF.head()"
      ],
      "execution_count": 0,
      "outputs": [
        {
          "output_type": "execute_result",
          "data": {
            "text/html": [
              "<div>\n",
              "<style scoped>\n",
              "    .dataframe tbody tr th:only-of-type {\n",
              "        vertical-align: middle;\n",
              "    }\n",
              "\n",
              "    .dataframe tbody tr th {\n",
              "        vertical-align: top;\n",
              "    }\n",
              "\n",
              "    .dataframe thead th {\n",
              "        text-align: right;\n",
              "    }\n",
              "</style>\n",
              "<table border=\"1\" class=\"dataframe\">\n",
              "  <thead>\n",
              "    <tr style=\"text-align: right;\">\n",
              "      <th></th>\n",
              "      <th>originalUserId</th>\n",
              "      <th>newUserId</th>\n",
              "    </tr>\n",
              "  </thead>\n",
              "  <tbody>\n",
              "    <tr>\n",
              "      <th>0</th>\n",
              "      <td>49</td>\n",
              "      <td>1</td>\n",
              "    </tr>\n",
              "    <tr>\n",
              "      <th>1</th>\n",
              "      <td>260</td>\n",
              "      <td>2</td>\n",
              "    </tr>\n",
              "    <tr>\n",
              "      <th>2</th>\n",
              "      <td>311</td>\n",
              "      <td>3</td>\n",
              "    </tr>\n",
              "    <tr>\n",
              "      <th>3</th>\n",
              "      <td>319</td>\n",
              "      <td>4</td>\n",
              "    </tr>\n",
              "    <tr>\n",
              "      <th>4</th>\n",
              "      <td>499</td>\n",
              "      <td>5</td>\n",
              "    </tr>\n",
              "  </tbody>\n",
              "</table>\n",
              "</div>"
            ],
            "text/plain": [
              "   originalUserId  newUserId\n",
              "0              49          1\n",
              "1             260          2\n",
              "2             311          3\n",
              "3             319          4\n",
              "4             499          5"
            ]
          },
          "metadata": {
            "tags": []
          },
          "execution_count": 35
        }
      ]
    },
    {
      "cell_type": "code",
      "metadata": {
        "id": "QvymIcbQ1DJf",
        "colab_type": "code",
        "outputId": "b393ba46-e635-4fa9-af1a-113de814a54e",
        "colab": {
          "base_uri": "https://localhost:8080/",
          "height": 195
        }
      },
      "source": [
        "# Generate newly merged DataFrame\n",
        "ratingDFX3 = ratingDFX3.merge(moviesDF,left_on='movieId', \\\n",
        "                              right_on='originalMovieId')\n",
        "ratingDFX3.drop(labels='originalMovieId', axis=1, inplace=True)\n",
        "\n",
        "ratingDFX3 = ratingDFX3.merge(usersDF,left_on='userId', \\\n",
        "                              right_on='originalUserId')\n",
        "ratingDFX3.drop(labels='originalUserId', axis=1, inplace=True)\n",
        "ratingDFX3.head()"
      ],
      "execution_count": 0,
      "outputs": [
        {
          "output_type": "execute_result",
          "data": {
            "text/html": [
              "<div>\n",
              "<style scoped>\n",
              "    .dataframe tbody tr th:only-of-type {\n",
              "        vertical-align: middle;\n",
              "    }\n",
              "\n",
              "    .dataframe tbody tr th {\n",
              "        vertical-align: top;\n",
              "    }\n",
              "\n",
              "    .dataframe thead th {\n",
              "        text-align: right;\n",
              "    }\n",
              "</style>\n",
              "<table border=\"1\" class=\"dataframe\">\n",
              "  <thead>\n",
              "    <tr style=\"text-align: right;\">\n",
              "      <th></th>\n",
              "      <th>userId</th>\n",
              "      <th>movieId</th>\n",
              "      <th>rating</th>\n",
              "      <th>timestamp</th>\n",
              "      <th>newMovieId</th>\n",
              "      <th>newUserId</th>\n",
              "    </tr>\n",
              "  </thead>\n",
              "  <tbody>\n",
              "    <tr>\n",
              "      <th>0</th>\n",
              "      <td>49</td>\n",
              "      <td>50</td>\n",
              "      <td>5.0</td>\n",
              "      <td>2013-05-03 02:50:26</td>\n",
              "      <td>1</td>\n",
              "      <td>1</td>\n",
              "    </tr>\n",
              "    <tr>\n",
              "      <th>1</th>\n",
              "      <td>49</td>\n",
              "      <td>163</td>\n",
              "      <td>3.5</td>\n",
              "      <td>2013-05-03 02:43:37</td>\n",
              "      <td>2</td>\n",
              "      <td>1</td>\n",
              "    </tr>\n",
              "    <tr>\n",
              "      <th>2</th>\n",
              "      <td>49</td>\n",
              "      <td>216</td>\n",
              "      <td>3.0</td>\n",
              "      <td>2013-05-03 02:45:58</td>\n",
              "      <td>3</td>\n",
              "      <td>1</td>\n",
              "    </tr>\n",
              "    <tr>\n",
              "      <th>3</th>\n",
              "      <td>49</td>\n",
              "      <td>296</td>\n",
              "      <td>5.0</td>\n",
              "      <td>2013-05-03 02:50:13</td>\n",
              "      <td>4</td>\n",
              "      <td>1</td>\n",
              "    </tr>\n",
              "    <tr>\n",
              "      <th>4</th>\n",
              "      <td>49</td>\n",
              "      <td>333</td>\n",
              "      <td>3.0</td>\n",
              "      <td>2013-05-03 02:44:38</td>\n",
              "      <td>5</td>\n",
              "      <td>1</td>\n",
              "    </tr>\n",
              "  </tbody>\n",
              "</table>\n",
              "</div>"
            ],
            "text/plain": [
              "   userId  movieId  rating            timestamp  newMovieId  newUserId\n",
              "0      49       50     5.0  2013-05-03 02:50:26           1          1\n",
              "1      49      163     3.5  2013-05-03 02:43:37           2          1\n",
              "2      49      216     3.0  2013-05-03 02:45:58           3          1\n",
              "3      49      296     5.0  2013-05-03 02:50:13           4          1\n",
              "4      49      333     3.0  2013-05-03 02:44:38           5          1"
            ]
          },
          "metadata": {
            "tags": []
          },
          "execution_count": 36
        }
      ]
    },
    {
      "cell_type": "markdown",
      "metadata": {
        "id": "c_B6VQK02Ufn",
        "colab_type": "text"
      },
      "source": [
        "Now, let's get the number of movies, users, ratings, and the average rating number per user for the new dataset. First, we save the reduced dataset as a pickle file:"
      ]
    },
    {
      "cell_type": "code",
      "metadata": {
        "id": "VdzN_LtJ1Ln0",
        "colab_type": "code",
        "colab": {}
      },
      "source": [
        "# Save as pickle\n",
        "pickle_file = 'ratingReducedPickle'\n",
        "ratingDFX3.to_pickle(current_path + pickle_file)\n",
        "ratingDFX3 = pd.read_pickle(current_path + pickle_file)"
      ],
      "execution_count": 0,
      "outputs": []
    },
    {
      "cell_type": "code",
      "metadata": {
        "id": "HDK1h3672owc",
        "colab_type": "code",
        "outputId": "200c50cf-5050-43af-c494-d17e95d92315",
        "colab": {
          "base_uri": "https://localhost:8080/",
          "height": 84
        }
      },
      "source": [
        "# Calculate summary statistics on reduced dataset\n",
        "n_users = ratingDFX3.userId.unique().shape[0]\n",
        "n_movies = ratingDFX3.movieId.unique().shape[0]\n",
        "n_ratings = len(ratingDFX3)\n",
        "avg_ratings_per_user = n_ratings/n_users\n",
        "\n",
        "print('Number of unique users: ', n_users)\n",
        "print('Number of unique movies: ', n_movies)\n",
        "print('Number of total ratings: ', n_ratings)\n",
        "print('Average number of ratings per user: ', avg_ratings_per_user)"
      ],
      "execution_count": 8,
      "outputs": [
        {
          "output_type": "stream",
          "text": [
            "Number of unique users:  1000\n",
            "Number of unique movies:  1000\n",
            "Number of total ratings:  90213\n",
            "Average number of ratings per user:  90.213\n"
          ],
          "name": "stdout"
        }
      ]
    },
    {
      "cell_type": "markdown",
      "metadata": {
        "id": "IU83Amn73I-Y",
        "colab_type": "text"
      },
      "source": [
        "Next, we split the reduced dataset into the training and testing sets. The test set we split further into the test and validation sets so that each of them contains 5% of the reduced rating dataset."
      ]
    },
    {
      "cell_type": "code",
      "metadata": {
        "id": "LbIkGJba2s93",
        "colab_type": "code",
        "outputId": "ef8d502f-5424-41ac-b785-3ff4150ac046",
        "colab": {
          "base_uri": "https://localhost:8080/",
          "height": 67
        }
      },
      "source": [
        "# Split into validation and test, such that each is 5% of the dataset\n",
        "X_train, X_test = train_test_split(ratingDFX3, test_size=0.10, \\\n",
        "                                   shuffle=True, random_state=2018)\n",
        "\n",
        "X_validation, X_test = train_test_split(X_test, test_size=0.50, \\\n",
        "                                        shuffle=True, random_state=2018)\n",
        "\n",
        "# Confirm size of train, validation, and test datasets\n",
        "print('Size of train set: ', len(X_train))\n",
        "print('Size of validation set: ', len(X_validation))\n",
        "print('Size of test set: ', len(X_test))"
      ],
      "execution_count": 11,
      "outputs": [
        {
          "output_type": "stream",
          "text": [
            "Size of train set:  81191\n",
            "Size of validation set:  4511\n",
            "Size of test set:  4511\n"
          ],
          "name": "stdout"
        }
      ]
    },
    {
      "cell_type": "markdown",
      "metadata": {
        "id": "hQVVkfEj4EHD",
        "colab_type": "text"
      },
      "source": [
        "## Define the Cost Function: Mean Squared Error\n",
        "\n",
        "We are ready to work with the data. We start with creating a rating matrix of $m \\times n$ where $m$ is the number of users and $n$ is the number of movies. This will be a sparse matrix, since only a few movies are rated by each user. For 1000 by 1000 potential ratings we have only 81k ratings available. This means 92% of ratings are not known."
      ]
    },
    {
      "cell_type": "code",
      "metadata": {
        "id": "eNE7Wftc3i3Z",
        "colab_type": "code",
        "colab": {}
      },
      "source": [
        "# Generate ratings matrix for train\n",
        "ratings_train = np.zeros((n_users, n_movies))\n",
        "for row in X_train.itertuples():\n",
        "    ratings_train[row[6]-1, row[5]-1] = row[3]"
      ],
      "execution_count": 0,
      "outputs": []
    },
    {
      "cell_type": "code",
      "metadata": {
        "id": "zCUF0YL-5XRd",
        "colab_type": "code",
        "outputId": "ffe7f47d-2862-4872-8e5a-d3bf48070cb4",
        "colab": {
          "base_uri": "https://localhost:8080/",
          "height": 34
        }
      },
      "source": [
        "# Calculate sparsity of the train ratings matrix\n",
        "sparsity = float(len(ratings_train.nonzero()[0]))\n",
        "sparsity /= (ratings_train.shape[0] * ratings_train.shape[1])\n",
        "sparsity *= 100\n",
        "print('Sparsity: {:4.2f}%'.format(sparsity))"
      ],
      "execution_count": 13,
      "outputs": [
        {
          "output_type": "stream",
          "text": [
            "Sparsity: 8.12%\n"
          ],
          "name": "stdout"
        }
      ]
    },
    {
      "cell_type": "markdown",
      "metadata": {
        "id": "kVbW0UCx5qxN",
        "colab_type": "text"
      },
      "source": [
        "We also generate similar matrices for the test and validation sets. They will be even sparser:"
      ]
    },
    {
      "cell_type": "code",
      "metadata": {
        "id": "pdKKYBnT5ybp",
        "colab_type": "code",
        "colab": {}
      },
      "source": [
        "# Generate ratings matrix for validation\n",
        "ratings_validation = np.zeros((n_users, n_movies))\n",
        "for row in X_validation.itertuples():\n",
        "    ratings_validation[row[6]-1, row[5]-1] = row[3]"
      ],
      "execution_count": 0,
      "outputs": []
    },
    {
      "cell_type": "code",
      "metadata": {
        "id": "qu-OzxZ153VZ",
        "colab_type": "code",
        "colab": {}
      },
      "source": [
        "# Generate ratings matrix for test\n",
        "ratings_test = np.zeros((n_users, n_movies))\n",
        "for row in X_test.itertuples():\n",
        "    ratings_test[row[6]-1, row[5]-1] = row[3]"
      ],
      "execution_count": 0,
      "outputs": []
    },
    {
      "cell_type": "code",
      "metadata": {
        "id": "dGK9pkux55e3",
        "colab_type": "code",
        "outputId": "06dfb999-ad4f-4312-8ca5-10f1d2e6c18e",
        "colab": {
          "base_uri": "https://localhost:8080/",
          "height": 34
        }
      },
      "source": [
        "# Calculate sparsity of the validation ratings matrix\n",
        "sparsity = float(len(ratings_validation.nonzero()[0]))\n",
        "sparsity /= (ratings_validation.shape[0] * ratings_validation.shape[1])\n",
        "sparsity *= 100\n",
        "print('Sparsity: {:4.2f}%'.format(sparsity))"
      ],
      "execution_count": 16,
      "outputs": [
        {
          "output_type": "stream",
          "text": [
            "Sparsity: 0.45%\n"
          ],
          "name": "stdout"
        }
      ]
    },
    {
      "cell_type": "markdown",
      "metadata": {
        "id": "pQN8pjW16Oak",
        "colab_type": "text"
      },
      "source": [
        "Before we build the recommender system, we need to define the cost function. We are going to use *mean squared error*. To calculate MSE, we will need two vectors of size $n \\times 1$, one for the actual ratings and one for the predicted. The number $n$ is the size of the validation set, that is, 4511. We can start by preparing the rating vector from the validation set:"
      ]
    },
    {
      "cell_type": "code",
      "metadata": {
        "id": "_sPX1dBB58fz",
        "colab_type": "code",
        "colab": {}
      },
      "source": [
        "actual_validation = ratings_validation[ratings_validation.nonzero()].flatten()"
      ],
      "execution_count": 0,
      "outputs": []
    },
    {
      "cell_type": "code",
      "metadata": {
        "id": "rR4Av9aW67o2",
        "colab_type": "code",
        "outputId": "c16da327-b8c4-4464-f05c-c09cb6529795",
        "colab": {
          "base_uri": "https://localhost:8080/",
          "height": 34
        }
      },
      "source": [
        "actual_validation.shape"
      ],
      "execution_count": 0,
      "outputs": [
        {
          "output_type": "execute_result",
          "data": {
            "text/plain": [
              "(4511,)"
            ]
          },
          "metadata": {
            "tags": []
          },
          "execution_count": 70
        }
      ]
    },
    {
      "cell_type": "markdown",
      "metadata": {
        "id": "6_s-jO4F7uhW",
        "colab_type": "text"
      },
      "source": [
        "## Baseline Experiments\n",
        "\n",
        "To establish a baseline value for the MSE, let's make a naive prediction of all ratings equal to 3.5."
      ]
    },
    {
      "cell_type": "code",
      "metadata": {
        "id": "mypSaGHs68_d",
        "colab_type": "code",
        "colab": {}
      },
      "source": [
        "pred_validation = np.zeros((len(X_validation),1))\n",
        "pred_validation[pred_validation==0] = 3.5"
      ],
      "execution_count": 0,
      "outputs": []
    },
    {
      "cell_type": "markdown",
      "metadata": {
        "id": "FDDHtUVO8EyZ",
        "colab_type": "text"
      },
      "source": [
        "The MSE of this prediction is 1.06. This is our baseline cost."
      ]
    },
    {
      "cell_type": "code",
      "metadata": {
        "id": "ioQfpW7Y8Bhj",
        "colab_type": "code",
        "outputId": "7ce983bc-edac-46c6-c257-579f0f0f2566",
        "colab": {
          "base_uri": "https://localhost:8080/",
          "height": 34
        }
      },
      "source": [
        "naive_prediction = mean_squared_error(pred_validation, actual_validation)\n",
        "print('Mean squared error using naive prediction:', naive_prediction)"
      ],
      "execution_count": 0,
      "outputs": [
        {
          "output_type": "stream",
          "text": [
            "Mean squared error using naive prediction: 1.055420084238528\n"
          ],
          "name": "stdout"
        }
      ]
    },
    {
      "cell_type": "markdown",
      "metadata": {
        "id": "IHpBfBG-8Ynh",
        "colab_type": "text"
      },
      "source": [
        "Our next prediction is that the user's rating to an unrated movie equals his average rating. Let's see if it can improve the baseline:"
      ]
    },
    {
      "cell_type": "code",
      "metadata": {
        "id": "Pv1QPJOh8Kvz",
        "colab_type": "code",
        "outputId": "006aa3b8-6ff0-4a90-94f5-aa5c3de0e64e",
        "colab": {
          "base_uri": "https://localhost:8080/",
          "height": 34
        }
      },
      "source": [
        "# Experiment two - Predict a user's rating based on user's average rating \n",
        "# for all other movies\n",
        "ratings_validation_prediction = np.zeros((n_users, n_movies))\n",
        "i = 0\n",
        "for row in ratings_train:\n",
        "    ratings_validation_prediction[i][ratings_validation_prediction[i]==0] \\\n",
        "        = np.mean(row[row>0])\n",
        "    i += 1\n",
        "\n",
        "pred_validation = ratings_validation_prediction \\\n",
        "    [ratings_validation.nonzero()].flatten()\n",
        "user_average = mean_squared_error(pred_validation, actual_validation)\n",
        "print('Mean squared error using user average:', user_average)"
      ],
      "execution_count": 0,
      "outputs": [
        {
          "output_type": "stream",
          "text": [
            "Mean squared error using user average: 0.9090717929472647\n"
          ],
          "name": "stdout"
        }
      ]
    },
    {
      "cell_type": "markdown",
      "metadata": {
        "id": "mn-6kgZl85ad",
        "colab_type": "text"
      },
      "source": [
        "We see some improvement there. The next experimental prediction is that the user's rating to an unrated movie is equal to the average rating other users gave to this movie:\n"
      ]
    },
    {
      "cell_type": "code",
      "metadata": {
        "id": "vX8L3TKZ80Hg",
        "colab_type": "code",
        "outputId": "81bb851e-2bcc-4428-8a70-0416e84c0ee0",
        "colab": {
          "base_uri": "https://localhost:8080/",
          "height": 34
        }
      },
      "source": [
        "# Experiment three - Predict a user's rating for a movie based on the\n",
        "# average rating other users have given that movie\n",
        "ratings_validation_prediction = np.zeros((n_users, n_movies)).T\n",
        "i = 0\n",
        "for row in ratings_train.T:\n",
        "    ratings_validation_prediction[i][ratings_validation_prediction[i]==0] \\\n",
        "        = np.mean(row[row>0])\n",
        "    i += 1\n",
        "\n",
        "ratings_validation_prediction = ratings_validation_prediction.T\n",
        "pred_validation = ratings_validation_prediction \\\n",
        "    [ratings_validation.nonzero()].flatten()\n",
        "movie_average = mean_squared_error(pred_validation, actual_validation)\n",
        "print('Mean squared error using movie average:', movie_average)"
      ],
      "execution_count": 0,
      "outputs": [
        {
          "output_type": "stream",
          "text": [
            "Mean squared error using movie average: 0.9136057106858655\n"
          ],
          "name": "stdout"
        }
      ]
    },
    {
      "cell_type": "markdown",
      "metadata": {
        "id": "BX4E1uRm9xFH",
        "colab_type": "text"
      },
      "source": [
        "The result is similar but not better when using the user's own ratings. However, this approach is better applicable to users that never rated any movie.\n",
        "\n",
        "## Matrix Factorization\n",
        "\n",
        "Before we continue building a recommender system using restricted Boltzmann machines, we will try a popular method called **matrix factorization**. The idea behind this method is that the users-movies matrix can be represented as a product of two matrices based on so-called *latent factors*. One matrix, the user - latent factor matrix, has dimensions $m \\times k$, where $k$ is the chosen number of latent factors. The other matrix, movies-latent factors, has the dimensionality $k \\times n$.\n",
        "\n",
        "The higher is the number of latent factors, the higher is the matrix capacity. However, the high capacity matrices can overfit the data.\n",
        "\n",
        "Matrix factorization learns the representations of users and items in a lower-dimensional space and makes predictions based on the learned representation.\n",
        "\n",
        "### One Latent Factor\n",
        "\n",
        "We will start with the simplest scenario: one latent factor. We will use Keras to perform matrix factorization.\n",
        "\n"
      ]
    },
    {
      "cell_type": "code",
      "metadata": {
        "id": "5GAhjXbR9Ngs",
        "colab_type": "code",
        "colab": {}
      },
      "source": [
        "# Experiment four - Recommender System using Matrix Factorization\n",
        "# 1 Latent Factor\n",
        "\n",
        "n_latent_factors = 1\n",
        "\n",
        "user_input = Input(shape=[1], name='user')\n",
        "user_embedding = Embedding(input_dim=n_users + 1, \\\n",
        "                           output_dim=n_latent_factors, \\\n",
        "                           name='user_embedding')(user_input)\n",
        "user_vec = Flatten(name='flatten_users')(user_embedding)\n",
        "\n",
        "movie_input = Input(shape=[1], name='movie')\n",
        "movie_embedding = Embedding(input_dim=n_movies + 1, \\\n",
        "                            output_dim=n_latent_factors,\n",
        "                            name='movie_embedding')(movie_input)\n",
        "movie_vec = Flatten(name='flatten_movies')(movie_embedding)\n",
        "\n",
        "product = dot([movie_vec, user_vec], axes=1)\n",
        "model = Model(inputs=[user_input, movie_input], outputs=product)\n",
        "model.compile('adam', 'mean_squared_error')"
      ],
      "execution_count": 0,
      "outputs": []
    },
    {
      "cell_type": "markdown",
      "metadata": {
        "id": "rm0IZsHugQNz",
        "colab_type": "text"
      },
      "source": [
        "We will train the model by feeding it the user and movies vectors for 100 epochs. We will validate using the validation set. The MSE will be calculated against the actual ratings."
      ]
    },
    {
      "cell_type": "code",
      "metadata": {
        "id": "8KzE2DHufzP-",
        "colab_type": "code",
        "outputId": "b5687dbc-e530-415c-c5bb-a936432013f6",
        "colab": {
          "base_uri": "https://localhost:8080/",
          "height": 1000
        }
      },
      "source": [
        "history = model.fit(x=[X_train.newUserId, X_train.newMovieId], \\\n",
        "                    y=X_train.rating, epochs=100, \\\n",
        "                    validation_data=([X_validation.newUserId, \\\n",
        "                    X_validation.newMovieId], X_validation.rating), \\\n",
        "                    verbose=1)"
      ],
      "execution_count": 0,
      "outputs": [
        {
          "output_type": "stream",
          "text": [
            "W0626 11:19:08.120711 140602987935616 deprecation_wrapper.py:119] From /usr/local/lib/python3.6/dist-packages/keras/backend/tensorflow_backend.py:986: The name tf.assign_add is deprecated. Please use tf.compat.v1.assign_add instead.\n",
            "\n",
            "W0626 11:19:08.208771 140602987935616 deprecation_wrapper.py:119] From /usr/local/lib/python3.6/dist-packages/keras/backend/tensorflow_backend.py:973: The name tf.assign is deprecated. Please use tf.compat.v1.assign instead.\n",
            "\n"
          ],
          "name": "stderr"
        },
        {
          "output_type": "stream",
          "text": [
            "Train on 81191 samples, validate on 4511 samples\n",
            "Epoch 1/100\n",
            "81191/81191 [==============================] - 4s 48us/step - loss: 13.3784 - val_loss: 11.4233\n",
            "Epoch 2/100\n",
            "81191/81191 [==============================] - 3s 35us/step - loss: 8.7118 - val_loss: 6.2086\n",
            "Epoch 3/100\n",
            "81191/81191 [==============================] - 3s 35us/step - loss: 4.4347 - val_loss: 3.2328\n",
            "Epoch 4/100\n",
            "81191/81191 [==============================] - 3s 35us/step - loss: 2.4776 - val_loss: 2.0073\n",
            "Epoch 5/100\n",
            "81191/81191 [==============================] - 3s 35us/step - loss: 1.6109 - val_loss: 1.4189\n",
            "Epoch 6/100\n",
            "81191/81191 [==============================] - 3s 35us/step - loss: 1.1819 - val_loss: 1.1253\n",
            "Epoch 7/100\n",
            "81191/81191 [==============================] - 3s 35us/step - loss: 0.9645 - val_loss: 0.9711\n",
            "Epoch 8/100\n",
            "81191/81191 [==============================] - 3s 35us/step - loss: 0.8532 - val_loss: 0.8910\n",
            "Epoch 9/100\n",
            "81191/81191 [==============================] - 3s 35us/step - loss: 0.7953 - val_loss: 0.8475\n",
            "Epoch 10/100\n",
            "81191/81191 [==============================] - 3s 35us/step - loss: 0.7647 - val_loss: 0.8249\n",
            "Epoch 11/100\n",
            "81191/81191 [==============================] - 3s 35us/step - loss: 0.7482 - val_loss: 0.8132\n",
            "Epoch 12/100\n",
            "81191/81191 [==============================] - 3s 35us/step - loss: 0.7395 - val_loss: 0.8072\n",
            "Epoch 13/100\n",
            "81191/81191 [==============================] - 3s 35us/step - loss: 0.7346 - val_loss: 0.8042\n",
            "Epoch 14/100\n",
            "81191/81191 [==============================] - 3s 35us/step - loss: 0.7318 - val_loss: 0.8015\n",
            "Epoch 15/100\n",
            "81191/81191 [==============================] - 3s 35us/step - loss: 0.7303 - val_loss: 0.8006\n",
            "Epoch 16/100\n",
            "81191/81191 [==============================] - 3s 35us/step - loss: 0.7295 - val_loss: 0.7995\n",
            "Epoch 17/100\n",
            "81191/81191 [==============================] - 3s 35us/step - loss: 0.7287 - val_loss: 0.7988\n",
            "Epoch 18/100\n",
            "81191/81191 [==============================] - 3s 34us/step - loss: 0.7284 - val_loss: 0.7998\n",
            "Epoch 19/100\n",
            "81191/81191 [==============================] - 3s 35us/step - loss: 0.7283 - val_loss: 0.7998\n",
            "Epoch 20/100\n",
            "81191/81191 [==============================] - 3s 35us/step - loss: 0.7280 - val_loss: 0.7995\n",
            "Epoch 21/100\n",
            "81191/81191 [==============================] - 3s 35us/step - loss: 0.7281 - val_loss: 0.7974\n",
            "Epoch 22/100\n",
            "81191/81191 [==============================] - 3s 35us/step - loss: 0.7280 - val_loss: 0.7994\n",
            "Epoch 23/100\n",
            "81191/81191 [==============================] - 3s 35us/step - loss: 0.7280 - val_loss: 0.7992\n",
            "Epoch 24/100\n",
            "81191/81191 [==============================] - 3s 36us/step - loss: 0.7279 - val_loss: 0.7984\n",
            "Epoch 25/100\n",
            "81191/81191 [==============================] - 3s 35us/step - loss: 0.7280 - val_loss: 0.7974\n",
            "Epoch 26/100\n",
            "81191/81191 [==============================] - 3s 35us/step - loss: 0.7279 - val_loss: 0.7978\n",
            "Epoch 27/100\n",
            "81191/81191 [==============================] - 3s 35us/step - loss: 0.7279 - val_loss: 0.7971\n",
            "Epoch 28/100\n",
            "81191/81191 [==============================] - 3s 35us/step - loss: 0.7278 - val_loss: 0.7982\n",
            "Epoch 29/100\n",
            "81191/81191 [==============================] - 3s 34us/step - loss: 0.7279 - val_loss: 0.7979\n",
            "Epoch 30/100\n",
            "81191/81191 [==============================] - 3s 35us/step - loss: 0.7278 - val_loss: 0.7985\n",
            "Epoch 31/100\n",
            "81191/81191 [==============================] - 3s 35us/step - loss: 0.7277 - val_loss: 0.7964\n",
            "Epoch 32/100\n",
            "81191/81191 [==============================] - 3s 34us/step - loss: 0.7279 - val_loss: 0.7974\n",
            "Epoch 33/100\n",
            "81191/81191 [==============================] - 3s 34us/step - loss: 0.7279 - val_loss: 0.7976\n",
            "Epoch 34/100\n",
            "81191/81191 [==============================] - 3s 35us/step - loss: 0.7278 - val_loss: 0.7966\n",
            "Epoch 35/100\n",
            "81191/81191 [==============================] - 3s 35us/step - loss: 0.7277 - val_loss: 0.7978\n",
            "Epoch 36/100\n",
            "81191/81191 [==============================] - 3s 35us/step - loss: 0.7278 - val_loss: 0.7987\n",
            "Epoch 37/100\n",
            "81191/81191 [==============================] - 3s 35us/step - loss: 0.7277 - val_loss: 0.7972\n",
            "Epoch 38/100\n",
            "81191/81191 [==============================] - 3s 35us/step - loss: 0.7276 - val_loss: 0.7991\n",
            "Epoch 39/100\n",
            "81191/81191 [==============================] - 3s 35us/step - loss: 0.7278 - val_loss: 0.7969\n",
            "Epoch 40/100\n",
            "81191/81191 [==============================] - 3s 35us/step - loss: 0.7277 - val_loss: 0.7988\n",
            "Epoch 41/100\n",
            "81191/81191 [==============================] - 3s 34us/step - loss: 0.7278 - val_loss: 0.7981\n",
            "Epoch 42/100\n",
            "81191/81191 [==============================] - 3s 35us/step - loss: 0.7275 - val_loss: 0.7990\n",
            "Epoch 43/100\n",
            "81191/81191 [==============================] - 3s 35us/step - loss: 0.7278 - val_loss: 0.7987\n",
            "Epoch 44/100\n",
            "81191/81191 [==============================] - 3s 35us/step - loss: 0.7276 - val_loss: 0.7987\n",
            "Epoch 45/100\n",
            "81191/81191 [==============================] - 3s 35us/step - loss: 0.7277 - val_loss: 0.7984\n",
            "Epoch 46/100\n",
            "81191/81191 [==============================] - 3s 35us/step - loss: 0.7278 - val_loss: 0.7980\n",
            "Epoch 47/100\n",
            "81191/81191 [==============================] - 3s 35us/step - loss: 0.7278 - val_loss: 0.7981\n",
            "Epoch 48/100\n",
            "81191/81191 [==============================] - 3s 35us/step - loss: 0.7277 - val_loss: 0.7982\n",
            "Epoch 49/100\n",
            "81191/81191 [==============================] - 3s 35us/step - loss: 0.7278 - val_loss: 0.7991\n",
            "Epoch 50/100\n",
            "81191/81191 [==============================] - 3s 35us/step - loss: 0.7277 - val_loss: 0.7981\n",
            "Epoch 51/100\n",
            "81191/81191 [==============================] - 3s 35us/step - loss: 0.7278 - val_loss: 0.7982\n",
            "Epoch 52/100\n",
            "81191/81191 [==============================] - 3s 35us/step - loss: 0.7277 - val_loss: 0.7986\n",
            "Epoch 53/100\n",
            "81191/81191 [==============================] - 3s 38us/step - loss: 0.7277 - val_loss: 0.7990\n",
            "Epoch 54/100\n",
            "81191/81191 [==============================] - 3s 38us/step - loss: 0.7276 - val_loss: 0.7985\n",
            "Epoch 55/100\n",
            "81191/81191 [==============================] - 3s 37us/step - loss: 0.7276 - val_loss: 0.8005\n",
            "Epoch 56/100\n",
            "81191/81191 [==============================] - 3s 35us/step - loss: 0.7276 - val_loss: 0.7980\n",
            "Epoch 57/100\n",
            "81191/81191 [==============================] - 3s 35us/step - loss: 0.7278 - val_loss: 0.7987\n",
            "Epoch 58/100\n",
            "81191/81191 [==============================] - 3s 35us/step - loss: 0.7278 - val_loss: 0.7984\n",
            "Epoch 59/100\n",
            "81191/81191 [==============================] - 3s 35us/step - loss: 0.7278 - val_loss: 0.7974\n",
            "Epoch 60/100\n",
            "81191/81191 [==============================] - 3s 35us/step - loss: 0.7277 - val_loss: 0.7978\n",
            "Epoch 61/100\n",
            "81191/81191 [==============================] - 3s 35us/step - loss: 0.7277 - val_loss: 0.7983\n",
            "Epoch 62/100\n",
            "81191/81191 [==============================] - 3s 35us/step - loss: 0.7276 - val_loss: 0.7986\n",
            "Epoch 63/100\n",
            "81191/81191 [==============================] - 3s 35us/step - loss: 0.7278 - val_loss: 0.7988\n",
            "Epoch 64/100\n",
            "81191/81191 [==============================] - 3s 36us/step - loss: 0.7277 - val_loss: 0.7982\n",
            "Epoch 65/100\n",
            "81191/81191 [==============================] - 3s 34us/step - loss: 0.7276 - val_loss: 0.7980\n",
            "Epoch 66/100\n",
            "81191/81191 [==============================] - 3s 35us/step - loss: 0.7277 - val_loss: 0.7985\n",
            "Epoch 67/100\n",
            "81191/81191 [==============================] - 3s 35us/step - loss: 0.7277 - val_loss: 0.7975\n",
            "Epoch 68/100\n",
            "81191/81191 [==============================] - 3s 35us/step - loss: 0.7278 - val_loss: 0.7990\n",
            "Epoch 69/100\n",
            "81191/81191 [==============================] - 3s 35us/step - loss: 0.7278 - val_loss: 0.7994\n",
            "Epoch 70/100\n",
            "81191/81191 [==============================] - 3s 35us/step - loss: 0.7276 - val_loss: 0.7990\n",
            "Epoch 71/100\n",
            "81191/81191 [==============================] - 3s 35us/step - loss: 0.7278 - val_loss: 0.7988\n",
            "Epoch 72/100\n",
            "81191/81191 [==============================] - 3s 35us/step - loss: 0.7277 - val_loss: 0.7980\n",
            "Epoch 73/100\n",
            "81191/81191 [==============================] - 3s 35us/step - loss: 0.7277 - val_loss: 0.7976\n",
            "Epoch 74/100\n",
            "81191/81191 [==============================] - 3s 35us/step - loss: 0.7276 - val_loss: 0.7974\n",
            "Epoch 75/100\n",
            "81191/81191 [==============================] - 3s 35us/step - loss: 0.7277 - val_loss: 0.7977\n",
            "Epoch 76/100\n",
            "81191/81191 [==============================] - 3s 35us/step - loss: 0.7278 - val_loss: 0.7972\n",
            "Epoch 77/100\n",
            "81191/81191 [==============================] - 3s 35us/step - loss: 0.7278 - val_loss: 0.7972\n",
            "Epoch 78/100\n",
            "81191/81191 [==============================] - 3s 35us/step - loss: 0.7277 - val_loss: 0.7977\n",
            "Epoch 79/100\n",
            "81191/81191 [==============================] - 3s 35us/step - loss: 0.7278 - val_loss: 0.7987\n",
            "Epoch 80/100\n",
            "81191/81191 [==============================] - 3s 35us/step - loss: 0.7278 - val_loss: 0.7985\n",
            "Epoch 81/100\n",
            "81191/81191 [==============================] - 3s 35us/step - loss: 0.7278 - val_loss: 0.7981\n",
            "Epoch 82/100\n",
            "81191/81191 [==============================] - 3s 35us/step - loss: 0.7277 - val_loss: 0.7979\n",
            "Epoch 83/100\n",
            "81191/81191 [==============================] - 3s 35us/step - loss: 0.7276 - val_loss: 0.7987\n",
            "Epoch 84/100\n",
            "81191/81191 [==============================] - 3s 34us/step - loss: 0.7279 - val_loss: 0.7985\n",
            "Epoch 85/100\n",
            "81191/81191 [==============================] - 3s 35us/step - loss: 0.7277 - val_loss: 0.8004\n",
            "Epoch 86/100\n",
            "81191/81191 [==============================] - 3s 35us/step - loss: 0.7278 - val_loss: 0.7987\n",
            "Epoch 87/100\n",
            "81191/81191 [==============================] - 3s 35us/step - loss: 0.7278 - val_loss: 0.7967\n",
            "Epoch 88/100\n",
            "81191/81191 [==============================] - 3s 35us/step - loss: 0.7277 - val_loss: 0.7987\n",
            "Epoch 89/100\n",
            "81191/81191 [==============================] - 3s 35us/step - loss: 0.7279 - val_loss: 0.7994\n",
            "Epoch 90/100\n",
            "81191/81191 [==============================] - 3s 35us/step - loss: 0.7278 - val_loss: 0.7978\n",
            "Epoch 91/100\n",
            "81191/81191 [==============================] - 3s 35us/step - loss: 0.7278 - val_loss: 0.7989\n",
            "Epoch 92/100\n",
            "81191/81191 [==============================] - 3s 36us/step - loss: 0.7279 - val_loss: 0.7983\n",
            "Epoch 93/100\n",
            "81191/81191 [==============================] - 3s 35us/step - loss: 0.7276 - val_loss: 0.7986\n",
            "Epoch 94/100\n",
            "81191/81191 [==============================] - 3s 35us/step - loss: 0.7277 - val_loss: 0.7983\n",
            "Epoch 95/100\n",
            "81191/81191 [==============================] - 3s 35us/step - loss: 0.7279 - val_loss: 0.7987\n",
            "Epoch 96/100\n",
            "81191/81191 [==============================] - 3s 35us/step - loss: 0.7277 - val_loss: 0.7985\n",
            "Epoch 97/100\n",
            "81191/81191 [==============================] - 3s 35us/step - loss: 0.7277 - val_loss: 0.7982\n",
            "Epoch 98/100\n",
            "81191/81191 [==============================] - 3s 36us/step - loss: 0.7278 - val_loss: 0.7973\n",
            "Epoch 99/100\n",
            "81191/81191 [==============================] - 3s 38us/step - loss: 0.7277 - val_loss: 0.7976\n",
            "Epoch 100/100\n",
            "81191/81191 [==============================] - 5s 64us/step - loss: 0.7278 - val_loss: 0.7971\n"
          ],
          "name": "stdout"
        }
      ]
    },
    {
      "cell_type": "markdown",
      "metadata": {
        "id": "w-wAzhj5iO0s",
        "colab_type": "text"
      },
      "source": [
        "Let's plot the results:"
      ]
    },
    {
      "cell_type": "code",
      "metadata": {
        "id": "rAHH_qObgs3J",
        "colab_type": "code",
        "outputId": "0962c587-0c2c-47b1-a866-478be2c0e926",
        "colab": {
          "base_uri": "https://localhost:8080/",
          "height": 300
        }
      },
      "source": [
        "pd.Series(history.history['val_loss'][10:]).plot(logy=False)\n",
        "plt.xlabel(\"Epoch\")\n",
        "plt.ylabel(\"Validation Error\")\n",
        "print('Minimum MSE: ', min(history.history['val_loss']))"
      ],
      "execution_count": 0,
      "outputs": [
        {
          "output_type": "stream",
          "text": [
            "Minimum MSE:  0.796398781588484\n"
          ],
          "name": "stdout"
        },
        {
          "output_type": "display_data",
          "data": {
            "image/png": "[encoded data removed]",
            "text/plain": [
              "<Figure size 432x288 with 1 Axes>"
            ]
          },
          "metadata": {
            "tags": []
          }
        }
      ]
    },
    {
      "cell_type": "markdown",
      "metadata": {
        "id": "Wx-1ijiGiwVn",
        "colab_type": "text"
      },
      "source": [
        "The minimum MSE is 0.796, which is better than our baseline values. Let's see if this can be improved with more latent factors.\n",
        "\n",
        "### Three Latent Factors"
      ]
    },
    {
      "cell_type": "code",
      "metadata": {
        "id": "2VwLEpNRiSjg",
        "colab_type": "code",
        "colab": {}
      },
      "source": [
        "# Experiment five - Recommender System using Matrix Factorization\n",
        "# 3 Latent Factors\n",
        "n_latent_factors = 3\n",
        "\n",
        "user_input = Input(shape=[1], name='user')\n",
        "user_embedding = Embedding(input_dim=n_users + 1, \\\n",
        "                           output_dim=n_latent_factors, \\\n",
        "                           embeddings_regularizer=regularizers.l1(10e-7), \\\n",
        "                           name='user_embedding')(user_input)\n",
        "user_vec = Flatten(name='flatten_users')(user_embedding)\n",
        "\n",
        "movie_input = Input(shape=[1], name='movie')\n",
        "movie_embedding = Embedding(input_dim=n_movies + 1, \\\n",
        "                            output_dim=n_latent_factors, \\\n",
        "                            embeddings_regularizer=regularizers.l1(10e-7), \\\n",
        "                            name='movie_embedding')(movie_input)\n",
        "movie_vec = Flatten(name='flatten_movies')(movie_embedding)\n",
        "\n",
        "product = dot([movie_vec, user_vec], axes=1)\n",
        "model = Model(inputs=[user_input, movie_input], outputs=product)\n",
        "model.compile('adam', 'mean_squared_error')"
      ],
      "execution_count": 0,
      "outputs": []
    },
    {
      "cell_type": "code",
      "metadata": {
        "id": "0t8Pye8EjZkS",
        "colab_type": "code",
        "outputId": "864acafa-b455-45d0-9744-fd683c2d9982",
        "colab": {
          "base_uri": "https://localhost:8080/",
          "height": 1000
        }
      },
      "source": [
        "history = model.fit(x=[X_train.newUserId, X_train.newMovieId], \\\n",
        "                    y=X_train.rating, epochs=100, \\\n",
        "                    validation_data=([X_validation.newUserId, \\\n",
        "                    X_validation.newMovieId], X_validation.rating), \\\n",
        "                    verbose=1)"
      ],
      "execution_count": 0,
      "outputs": [
        {
          "output_type": "stream",
          "text": [
            "Train on 81191 samples, validate on 4511 samples\n",
            "Epoch 1/100\n",
            "81191/81191 [==============================] - 4s 45us/step - loss: 12.1686 - val_loss: 7.7053\n",
            "Epoch 2/100\n",
            "81191/81191 [==============================] - 3s 40us/step - loss: 4.3921 - val_loss: 2.5150\n",
            "Epoch 3/100\n",
            "81191/81191 [==============================] - 3s 40us/step - loss: 1.7681 - val_loss: 1.3573\n",
            "Epoch 4/100\n",
            "81191/81191 [==============================] - 3s 40us/step - loss: 1.0775 - val_loss: 0.9949\n",
            "Epoch 5/100\n",
            "81191/81191 [==============================] - 3s 41us/step - loss: 0.8569 - val_loss: 0.8705\n",
            "Epoch 6/100\n",
            "81191/81191 [==============================] - 3s 41us/step - loss: 0.7830 - val_loss: 0.8281\n",
            "Epoch 7/100\n",
            "81191/81191 [==============================] - 3s 41us/step - loss: 0.7577 - val_loss: 0.8156\n",
            "Epoch 8/100\n",
            "81191/81191 [==============================] - 3s 41us/step - loss: 0.7487 - val_loss: 0.8094\n",
            "Epoch 9/100\n",
            "81191/81191 [==============================] - 3s 40us/step - loss: 0.7447 - val_loss: 0.8094\n",
            "Epoch 10/100\n",
            "81191/81191 [==============================] - 3s 40us/step - loss: 0.7432 - val_loss: 0.8088\n",
            "Epoch 11/100\n",
            "81191/81191 [==============================] - 3s 40us/step - loss: 0.7428 - val_loss: 0.8076\n",
            "Epoch 12/100\n",
            "81191/81191 [==============================] - 3s 41us/step - loss: 0.7423 - val_loss: 0.8080\n",
            "Epoch 13/100\n",
            "81191/81191 [==============================] - 3s 41us/step - loss: 0.7416 - val_loss: 0.8070\n",
            "Epoch 14/100\n",
            "81191/81191 [==============================] - 3s 41us/step - loss: 0.7419 - val_loss: 0.8074\n",
            "Epoch 15/100\n",
            "81191/81191 [==============================] - 3s 41us/step - loss: 0.7411 - val_loss: 0.8056\n",
            "Epoch 16/100\n",
            "81191/81191 [==============================] - 3s 40us/step - loss: 0.7409 - val_loss: 0.8058\n",
            "Epoch 17/100\n",
            "81191/81191 [==============================] - 4s 43us/step - loss: 0.7405 - val_loss: 0.8049\n",
            "Epoch 18/100\n",
            "81191/81191 [==============================] - 4s 44us/step - loss: 0.7401 - val_loss: 0.8008\n",
            "Epoch 19/100\n",
            "81191/81191 [==============================] - 4s 43us/step - loss: 0.7395 - val_loss: 0.8028\n",
            "Epoch 20/100\n",
            "81191/81191 [==============================] - 3s 41us/step - loss: 0.7384 - val_loss: 0.8035\n",
            "Epoch 21/100\n",
            "81191/81191 [==============================] - 3s 40us/step - loss: 0.7373 - val_loss: 0.8028\n",
            "Epoch 22/100\n",
            "81191/81191 [==============================] - 3s 41us/step - loss: 0.7363 - val_loss: 0.8032\n",
            "Epoch 23/100\n",
            "81191/81191 [==============================] - 3s 41us/step - loss: 0.7344 - val_loss: 0.7993\n",
            "Epoch 24/100\n",
            "81191/81191 [==============================] - 3s 40us/step - loss: 0.7324 - val_loss: 0.7979\n",
            "Epoch 25/100\n",
            "81191/81191 [==============================] - 3s 40us/step - loss: 0.7301 - val_loss: 0.7976\n",
            "Epoch 26/100\n",
            "81191/81191 [==============================] - 3s 40us/step - loss: 0.7272 - val_loss: 0.7973\n",
            "Epoch 27/100\n",
            "81191/81191 [==============================] - 3s 40us/step - loss: 0.7237 - val_loss: 0.7920\n",
            "Epoch 28/100\n",
            "81191/81191 [==============================] - 3s 40us/step - loss: 0.7203 - val_loss: 0.7892\n",
            "Epoch 29/100\n",
            "81191/81191 [==============================] - 3s 40us/step - loss: 0.7160 - val_loss: 0.7896\n",
            "Epoch 30/100\n",
            "81191/81191 [==============================] - 3s 41us/step - loss: 0.7119 - val_loss: 0.7870\n",
            "Epoch 31/100\n",
            "81191/81191 [==============================] - 3s 41us/step - loss: 0.7070 - val_loss: 0.7837\n",
            "Epoch 32/100\n",
            "81191/81191 [==============================] - 3s 41us/step - loss: 0.7022 - val_loss: 0.7816\n",
            "Epoch 33/100\n",
            "81191/81191 [==============================] - 3s 40us/step - loss: 0.6980 - val_loss: 0.7784\n",
            "Epoch 34/100\n",
            "81191/81191 [==============================] - 3s 41us/step - loss: 0.6939 - val_loss: 0.7767\n",
            "Epoch 35/100\n",
            "81191/81191 [==============================] - 3s 41us/step - loss: 0.6897 - val_loss: 0.7752\n",
            "Epoch 36/100\n",
            "81191/81191 [==============================] - 3s 41us/step - loss: 0.6858 - val_loss: 0.7735\n",
            "Epoch 37/100\n",
            "81191/81191 [==============================] - 3s 41us/step - loss: 0.6822 - val_loss: 0.7735\n",
            "Epoch 38/100\n",
            "81191/81191 [==============================] - 3s 41us/step - loss: 0.6788 - val_loss: 0.7726\n",
            "Epoch 39/100\n",
            "81191/81191 [==============================] - 3s 40us/step - loss: 0.6754 - val_loss: 0.7706\n",
            "Epoch 40/100\n",
            "81191/81191 [==============================] - 3s 40us/step - loss: 0.6725 - val_loss: 0.7688\n",
            "Epoch 41/100\n",
            "81191/81191 [==============================] - 3s 41us/step - loss: 0.6691 - val_loss: 0.7658\n",
            "Epoch 42/100\n",
            "81191/81191 [==============================] - 3s 40us/step - loss: 0.6665 - val_loss: 0.7689\n",
            "Epoch 43/100\n",
            "81191/81191 [==============================] - 3s 40us/step - loss: 0.6633 - val_loss: 0.7642\n",
            "Epoch 44/100\n",
            "81191/81191 [==============================] - 3s 40us/step - loss: 0.6606 - val_loss: 0.7620\n",
            "Epoch 45/100\n",
            "81191/81191 [==============================] - 3s 41us/step - loss: 0.6576 - val_loss: 0.7635\n",
            "Epoch 46/100\n",
            "81191/81191 [==============================] - 3s 40us/step - loss: 0.6551 - val_loss: 0.7651\n",
            "Epoch 47/100\n",
            "81191/81191 [==============================] - 3s 41us/step - loss: 0.6527 - val_loss: 0.7640\n",
            "Epoch 48/100\n",
            "81191/81191 [==============================] - 3s 40us/step - loss: 0.6499 - val_loss: 0.7617\n",
            "Epoch 49/100\n",
            "81191/81191 [==============================] - 3s 41us/step - loss: 0.6479 - val_loss: 0.7616\n",
            "Epoch 50/100\n",
            "81191/81191 [==============================] - 3s 41us/step - loss: 0.6458 - val_loss: 0.7604\n",
            "Epoch 51/100\n",
            "81191/81191 [==============================] - 3s 41us/step - loss: 0.6438 - val_loss: 0.7622\n",
            "Epoch 52/100\n",
            "81191/81191 [==============================] - 3s 41us/step - loss: 0.6421 - val_loss: 0.7626\n",
            "Epoch 53/100\n",
            "81191/81191 [==============================] - 3s 41us/step - loss: 0.6402 - val_loss: 0.7578\n",
            "Epoch 54/100\n",
            "81191/81191 [==============================] - 3s 41us/step - loss: 0.6386 - val_loss: 0.7592\n",
            "Epoch 55/100\n",
            "81191/81191 [==============================] - 4s 43us/step - loss: 0.6373 - val_loss: 0.7600\n",
            "Epoch 56/100\n",
            "81191/81191 [==============================] - 3s 43us/step - loss: 0.6359 - val_loss: 0.7600\n",
            "Epoch 57/100\n",
            "81191/81191 [==============================] - 3s 41us/step - loss: 0.6345 - val_loss: 0.7610\n",
            "Epoch 58/100\n",
            "81191/81191 [==============================] - 3s 41us/step - loss: 0.6334 - val_loss: 0.7586\n",
            "Epoch 59/100\n",
            "81191/81191 [==============================] - 3s 41us/step - loss: 0.6325 - val_loss: 0.7598\n",
            "Epoch 60/100\n",
            "81191/81191 [==============================] - 3s 40us/step - loss: 0.6312 - val_loss: 0.7590\n",
            "Epoch 61/100\n",
            "81191/81191 [==============================] - 3s 40us/step - loss: 0.6300 - val_loss: 0.7608\n",
            "Epoch 62/100\n",
            "81191/81191 [==============================] - 3s 40us/step - loss: 0.6293 - val_loss: 0.7587\n",
            "Epoch 63/100\n",
            "81191/81191 [==============================] - 3s 41us/step - loss: 0.6285 - val_loss: 0.7591\n",
            "Epoch 64/100\n",
            "81191/81191 [==============================] - 3s 40us/step - loss: 0.6278 - val_loss: 0.7582\n",
            "Epoch 65/100\n",
            "81191/81191 [==============================] - 3s 41us/step - loss: 0.6270 - val_loss: 0.7627\n",
            "Epoch 66/100\n",
            "81191/81191 [==============================] - 3s 41us/step - loss: 0.6265 - val_loss: 0.7604\n",
            "Epoch 67/100\n",
            "81191/81191 [==============================] - 3s 41us/step - loss: 0.6256 - val_loss: 0.7626\n",
            "Epoch 68/100\n",
            "81191/81191 [==============================] - 3s 41us/step - loss: 0.6249 - val_loss: 0.7599\n",
            "Epoch 69/100\n",
            "81191/81191 [==============================] - 3s 41us/step - loss: 0.6243 - val_loss: 0.7589\n",
            "Epoch 70/100\n",
            "81191/81191 [==============================] - 3s 41us/step - loss: 0.6239 - val_loss: 0.7606\n",
            "Epoch 71/100\n",
            "81191/81191 [==============================] - 3s 41us/step - loss: 0.6233 - val_loss: 0.7606\n",
            "Epoch 72/100\n",
            "81191/81191 [==============================] - 3s 40us/step - loss: 0.6229 - val_loss: 0.7600\n",
            "Epoch 73/100\n",
            "81191/81191 [==============================] - 3s 41us/step - loss: 0.6223 - val_loss: 0.7618\n",
            "Epoch 74/100\n",
            "81191/81191 [==============================] - 3s 41us/step - loss: 0.6218 - val_loss: 0.7617\n",
            "Epoch 75/100\n",
            "81191/81191 [==============================] - 3s 40us/step - loss: 0.6214 - val_loss: 0.7639\n",
            "Epoch 76/100\n",
            "81191/81191 [==============================] - 3s 41us/step - loss: 0.6210 - val_loss: 0.7622\n",
            "Epoch 77/100\n",
            "81191/81191 [==============================] - 3s 41us/step - loss: 0.6208 - val_loss: 0.7614\n",
            "Epoch 78/100\n",
            "81191/81191 [==============================] - 3s 40us/step - loss: 0.6202 - val_loss: 0.7644\n",
            "Epoch 79/100\n",
            "81191/81191 [==============================] - 3s 41us/step - loss: 0.6201 - val_loss: 0.7634\n",
            "Epoch 80/100\n",
            "81191/81191 [==============================] - 3s 40us/step - loss: 0.6198 - val_loss: 0.7630\n",
            "Epoch 81/100\n",
            "81191/81191 [==============================] - 3s 41us/step - loss: 0.6194 - val_loss: 0.7631\n",
            "Epoch 82/100\n",
            "81191/81191 [==============================] - 3s 40us/step - loss: 0.6191 - val_loss: 0.7636\n",
            "Epoch 83/100\n",
            "81191/81191 [==============================] - 3s 40us/step - loss: 0.6189 - val_loss: 0.7646\n",
            "Epoch 84/100\n",
            "81191/81191 [==============================] - 3s 41us/step - loss: 0.6186 - val_loss: 0.7645\n",
            "Epoch 85/100\n",
            "81191/81191 [==============================] - 3s 40us/step - loss: 0.6182 - val_loss: 0.7631\n",
            "Epoch 86/100\n",
            "81191/81191 [==============================] - 3s 41us/step - loss: 0.6179 - val_loss: 0.7648\n",
            "Epoch 87/100\n",
            "81191/81191 [==============================] - 3s 41us/step - loss: 0.6179 - val_loss: 0.7670\n",
            "Epoch 88/100\n",
            "81191/81191 [==============================] - 3s 41us/step - loss: 0.6175 - val_loss: 0.7667\n",
            "Epoch 89/100\n",
            "81191/81191 [==============================] - 3s 41us/step - loss: 0.6174 - val_loss: 0.7649\n",
            "Epoch 90/100\n",
            "81191/81191 [==============================] - 3s 41us/step - loss: 0.6172 - val_loss: 0.7655\n",
            "Epoch 91/100\n",
            "81191/81191 [==============================] - 3s 40us/step - loss: 0.6171 - val_loss: 0.7653\n",
            "Epoch 92/100\n",
            "81191/81191 [==============================] - 3s 41us/step - loss: 0.6167 - val_loss: 0.7640\n",
            "Epoch 93/100\n",
            "81191/81191 [==============================] - 3s 40us/step - loss: 0.6165 - val_loss: 0.7644\n",
            "Epoch 94/100\n",
            "81191/81191 [==============================] - 3s 40us/step - loss: 0.6166 - val_loss: 0.7649\n",
            "Epoch 95/100\n",
            "81191/81191 [==============================] - 3s 40us/step - loss: 0.6162 - val_loss: 0.7671\n",
            "Epoch 96/100\n",
            "81191/81191 [==============================] - 3s 40us/step - loss: 0.6163 - val_loss: 0.7661\n",
            "Epoch 97/100\n",
            "81191/81191 [==============================] - 3s 40us/step - loss: 0.6158 - val_loss: 0.7646\n",
            "Epoch 98/100\n",
            "81191/81191 [==============================] - 3s 40us/step - loss: 0.6157 - val_loss: 0.7640\n",
            "Epoch 99/100\n",
            "81191/81191 [==============================] - 3s 40us/step - loss: 0.6158 - val_loss: 0.7646\n",
            "Epoch 100/100\n",
            "81191/81191 [==============================] - 3s 40us/step - loss: 0.6154 - val_loss: 0.7674\n"
          ],
          "name": "stdout"
        }
      ]
    },
    {
      "cell_type": "code",
      "metadata": {
        "id": "Ov5gzpQWjcEB",
        "colab_type": "code",
        "outputId": "09cc2282-6c7a-4eb0-8fb7-f874b971c497",
        "colab": {
          "base_uri": "https://localhost:8080/",
          "height": 300
        }
      },
      "source": [
        "pd.Series(history.history['val_loss'][10:]).plot(logy=False)\n",
        "plt.xlabel(\"Epoch\")\n",
        "plt.ylabel(\"Validation Error\")\n",
        "print('Minimum MSE: ', min(history.history['val_loss']))"
      ],
      "execution_count": 0,
      "outputs": [
        {
          "output_type": "stream",
          "text": [
            "Minimum MSE:  0.7578070477539778\n"
          ],
          "name": "stdout"
        },
        {
          "output_type": "display_data",
          "data": {
            "image/png": "[encoded data removed]",
            "text/plain": [
              "<Figure size 432x288 with 1 Axes>"
            ]
          },
          "metadata": {
            "tags": []
          }
        }
      ]
    },
    {
      "cell_type": "markdown",
      "metadata": {
        "id": "AoQxZGWuk0zy",
        "colab_type": "text"
      },
      "source": [
        "The minimum MSE here is 0.758, so far the best.\n",
        "\n",
        "### Five Latent Factors\n",
        "\n"
      ]
    },
    {
      "cell_type": "code",
      "metadata": {
        "id": "FuKOgIzrkyxA",
        "colab_type": "code",
        "colab": {}
      },
      "source": [
        "# Experiment six - Recommender System using Matrix Factorization\n",
        "# 5 Latent Factors\n",
        "n_latent_factors = 5\n",
        "\n",
        "user_input = Input(shape=[1], name='user')\n",
        "user_embedding = Embedding(input_dim=n_users + 1, \\\n",
        "                           output_dim=n_latent_factors, \\\n",
        "                           embeddings_regularizer=regularizers.l1(10e-7), \\\n",
        "                           name='user_embedding')(user_input)\n",
        "user_vec = Flatten(name='flatten_users')(user_embedding)\n",
        "\n",
        "movie_input = Input(shape=[1], name='movie')\n",
        "movie_embedding = Embedding(input_dim=n_movies + 1, \\\n",
        "                            output_dim=n_latent_factors, \\\n",
        "                            embeddings_regularizer=regularizers.l1(10e-7), \\\n",
        "                            name='movie_embedding')(movie_input)\n",
        "movie_vec = Flatten(name='flatten_movies')(movie_embedding)\n",
        "\n",
        "product = dot([movie_vec, user_vec], axes=1)\n",
        "model = Model(inputs=[user_input, movie_input], outputs=product)\n",
        "model.compile('adam', 'mean_squared_error')"
      ],
      "execution_count": 0,
      "outputs": []
    },
    {
      "cell_type": "code",
      "metadata": {
        "id": "zBE13qRFlPTx",
        "colab_type": "code",
        "outputId": "6b0c5613-e0a4-4dd6-d53e-1fdbc2e055fd",
        "colab": {
          "base_uri": "https://localhost:8080/",
          "height": 1000
        }
      },
      "source": [
        "history = model.fit(x=[X_train.newUserId, X_train.newMovieId], \\\n",
        "                    y=X_train.rating, epochs=100, \\\n",
        "                    validation_data=([X_validation.newUserId, \\\n",
        "                    X_validation.newMovieId], X_validation.rating), \\\n",
        "                    verbose=1)"
      ],
      "execution_count": 0,
      "outputs": [
        {
          "output_type": "stream",
          "text": [
            "Train on 81191 samples, validate on 4511 samples\n",
            "Epoch 1/100\n",
            "81191/81191 [==============================] - 4s 47us/step - loss: 10.9135 - val_loss: 5.2047\n",
            "Epoch 2/100\n",
            "81191/81191 [==============================] - 3s 42us/step - loss: 2.8242 - val_loss: 1.6737\n",
            "Epoch 3/100\n",
            "81191/81191 [==============================] - 4s 44us/step - loss: 1.2164 - val_loss: 1.0257\n",
            "Epoch 4/100\n",
            "81191/81191 [==============================] - 4s 44us/step - loss: 0.8691 - val_loss: 0.8723\n",
            "Epoch 5/100\n",
            "81191/81191 [==============================] - 3s 42us/step - loss: 0.7823 - val_loss: 0.8274\n",
            "Epoch 6/100\n",
            "81191/81191 [==============================] - 3s 42us/step - loss: 0.7591 - val_loss: 0.8174\n",
            "Epoch 7/100\n",
            "81191/81191 [==============================] - 3s 42us/step - loss: 0.7526 - val_loss: 0.8134\n",
            "Epoch 8/100\n",
            "81191/81191 [==============================] - 3s 41us/step - loss: 0.7500 - val_loss: 0.8116\n",
            "Epoch 9/100\n",
            "81191/81191 [==============================] - 3s 42us/step - loss: 0.7499 - val_loss: 0.8134\n",
            "Epoch 10/100\n",
            "81191/81191 [==============================] - 3s 42us/step - loss: 0.7486 - val_loss: 0.8114\n",
            "Epoch 11/100\n",
            "81191/81191 [==============================] - 3s 42us/step - loss: 0.7482 - val_loss: 0.8096\n",
            "Epoch 12/100\n",
            "81191/81191 [==============================] - 3s 42us/step - loss: 0.7475 - val_loss: 0.8116\n",
            "Epoch 13/100\n",
            "81191/81191 [==============================] - 3s 42us/step - loss: 0.7468 - val_loss: 0.8092\n",
            "Epoch 14/100\n",
            "81191/81191 [==============================] - 3s 42us/step - loss: 0.7458 - val_loss: 0.8099\n",
            "Epoch 15/100\n",
            "81191/81191 [==============================] - 3s 42us/step - loss: 0.7446 - val_loss: 0.8070\n",
            "Epoch 16/100\n",
            "81191/81191 [==============================] - 3s 42us/step - loss: 0.7433 - val_loss: 0.8040\n",
            "Epoch 17/100\n",
            "81191/81191 [==============================] - 3s 42us/step - loss: 0.7413 - val_loss: 0.8021\n",
            "Epoch 18/100\n",
            "81191/81191 [==============================] - 3s 42us/step - loss: 0.7383 - val_loss: 0.8016\n",
            "Epoch 19/100\n",
            "81191/81191 [==============================] - 3s 43us/step - loss: 0.7354 - val_loss: 0.8017\n",
            "Epoch 20/100\n",
            "81191/81191 [==============================] - 3s 43us/step - loss: 0.7313 - val_loss: 0.7975\n",
            "Epoch 21/100\n",
            "81191/81191 [==============================] - 3s 42us/step - loss: 0.7268 - val_loss: 0.7935\n",
            "Epoch 22/100\n",
            "81191/81191 [==============================] - 3s 43us/step - loss: 0.7211 - val_loss: 0.7918\n",
            "Epoch 23/100\n",
            "81191/81191 [==============================] - 3s 42us/step - loss: 0.7148 - val_loss: 0.7892\n",
            "Epoch 24/100\n",
            "81191/81191 [==============================] - 3s 42us/step - loss: 0.7086 - val_loss: 0.7837\n",
            "Epoch 25/100\n",
            "81191/81191 [==============================] - 3s 42us/step - loss: 0.7021 - val_loss: 0.7800\n",
            "Epoch 26/100\n",
            "81191/81191 [==============================] - 3s 42us/step - loss: 0.6948 - val_loss: 0.7771\n",
            "Epoch 27/100\n",
            "81191/81191 [==============================] - 3s 42us/step - loss: 0.6885 - val_loss: 0.7721\n",
            "Epoch 28/100\n",
            "81191/81191 [==============================] - 3s 42us/step - loss: 0.6823 - val_loss: 0.7703\n",
            "Epoch 29/100\n",
            "81191/81191 [==============================] - 3s 42us/step - loss: 0.6760 - val_loss: 0.7659\n",
            "Epoch 30/100\n",
            "81191/81191 [==============================] - 3s 42us/step - loss: 0.6700 - val_loss: 0.7670\n",
            "Epoch 31/100\n",
            "81191/81191 [==============================] - 3s 42us/step - loss: 0.6642 - val_loss: 0.7629\n",
            "Epoch 32/100\n",
            "81191/81191 [==============================] - 3s 42us/step - loss: 0.6586 - val_loss: 0.7647\n",
            "Epoch 33/100\n",
            "81191/81191 [==============================] - 3s 42us/step - loss: 0.6532 - val_loss: 0.7622\n",
            "Epoch 34/100\n",
            "81191/81191 [==============================] - 3s 42us/step - loss: 0.6479 - val_loss: 0.7596\n",
            "Epoch 35/100\n",
            "81191/81191 [==============================] - 3s 42us/step - loss: 0.6428 - val_loss: 0.7599\n",
            "Epoch 36/100\n",
            "81191/81191 [==============================] - 3s 42us/step - loss: 0.6378 - val_loss: 0.7576\n",
            "Epoch 37/100\n",
            "81191/81191 [==============================] - 3s 42us/step - loss: 0.6332 - val_loss: 0.7624\n",
            "Epoch 38/100\n",
            "81191/81191 [==============================] - 3s 42us/step - loss: 0.6284 - val_loss: 0.7634\n",
            "Epoch 39/100\n",
            "81191/81191 [==============================] - 3s 42us/step - loss: 0.6245 - val_loss: 0.7636\n",
            "Epoch 40/100\n",
            "81191/81191 [==============================] - 3s 42us/step - loss: 0.6203 - val_loss: 0.7591\n",
            "Epoch 41/100\n",
            "81191/81191 [==============================] - 3s 42us/step - loss: 0.6167 - val_loss: 0.7645\n",
            "Epoch 42/100\n",
            "81191/81191 [==============================] - 3s 42us/step - loss: 0.6130 - val_loss: 0.7627\n",
            "Epoch 43/100\n",
            "81191/81191 [==============================] - 3s 42us/step - loss: 0.6096 - val_loss: 0.7645\n",
            "Epoch 44/100\n",
            "81191/81191 [==============================] - 3s 41us/step - loss: 0.6067 - val_loss: 0.7636\n",
            "Epoch 45/100\n",
            "81191/81191 [==============================] - 3s 42us/step - loss: 0.6039 - val_loss: 0.7617\n",
            "Epoch 46/100\n",
            "81191/81191 [==============================] - 3s 42us/step - loss: 0.6012 - val_loss: 0.7696\n",
            "Epoch 47/100\n",
            "81191/81191 [==============================] - 3s 42us/step - loss: 0.5985 - val_loss: 0.7680\n",
            "Epoch 48/100\n",
            "81191/81191 [==============================] - 3s 42us/step - loss: 0.5963 - val_loss: 0.7658\n",
            "Epoch 49/100\n",
            "81191/81191 [==============================] - 3s 42us/step - loss: 0.5940 - val_loss: 0.7687\n",
            "Epoch 50/100\n",
            "81191/81191 [==============================] - 3s 42us/step - loss: 0.5919 - val_loss: 0.7728\n",
            "Epoch 51/100\n",
            "81191/81191 [==============================] - 3s 42us/step - loss: 0.5899 - val_loss: 0.7736\n",
            "Epoch 52/100\n",
            "81191/81191 [==============================] - 3s 42us/step - loss: 0.5879 - val_loss: 0.7732\n",
            "Epoch 53/100\n",
            "81191/81191 [==============================] - 3s 42us/step - loss: 0.5861 - val_loss: 0.7742\n",
            "Epoch 54/100\n",
            "81191/81191 [==============================] - 3s 42us/step - loss: 0.5844 - val_loss: 0.7748\n",
            "Epoch 55/100\n",
            "81191/81191 [==============================] - 3s 42us/step - loss: 0.5829 - val_loss: 0.7725\n",
            "Epoch 56/100\n",
            "81191/81191 [==============================] - 3s 42us/step - loss: 0.5817 - val_loss: 0.7722\n",
            "Epoch 57/100\n",
            "81191/81191 [==============================] - 3s 42us/step - loss: 0.5802 - val_loss: 0.7738\n",
            "Epoch 58/100\n",
            "81191/81191 [==============================] - 4s 44us/step - loss: 0.5789 - val_loss: 0.7766\n",
            "Epoch 59/100\n",
            "81191/81191 [==============================] - 4s 45us/step - loss: 0.5777 - val_loss: 0.7773\n",
            "Epoch 60/100\n",
            "81191/81191 [==============================] - 4s 44us/step - loss: 0.5764 - val_loss: 0.7783\n",
            "Epoch 61/100\n",
            "81191/81191 [==============================] - 3s 43us/step - loss: 0.5751 - val_loss: 0.7794\n",
            "Epoch 62/100\n",
            "81191/81191 [==============================] - 3s 42us/step - loss: 0.5742 - val_loss: 0.7757\n",
            "Epoch 63/100\n",
            "81191/81191 [==============================] - 3s 42us/step - loss: 0.5733 - val_loss: 0.7756\n",
            "Epoch 64/100\n",
            "81191/81191 [==============================] - 3s 41us/step - loss: 0.5725 - val_loss: 0.7823\n",
            "Epoch 65/100\n",
            "81191/81191 [==============================] - 3s 41us/step - loss: 0.5714 - val_loss: 0.7827\n",
            "Epoch 66/100\n",
            "81191/81191 [==============================] - 3s 42us/step - loss: 0.5705 - val_loss: 0.7811\n",
            "Epoch 67/100\n",
            "81191/81191 [==============================] - 3s 42us/step - loss: 0.5698 - val_loss: 0.7812\n",
            "Epoch 68/100\n",
            "81191/81191 [==============================] - 3s 42us/step - loss: 0.5686 - val_loss: 0.7861\n",
            "Epoch 69/100\n",
            "81191/81191 [==============================] - 3s 42us/step - loss: 0.5679 - val_loss: 0.7869\n",
            "Epoch 70/100\n",
            "81191/81191 [==============================] - 3s 42us/step - loss: 0.5673 - val_loss: 0.7828\n",
            "Epoch 71/100\n",
            "81191/81191 [==============================] - 3s 42us/step - loss: 0.5666 - val_loss: 0.7846\n",
            "Epoch 72/100\n",
            "81191/81191 [==============================] - 3s 42us/step - loss: 0.5655 - val_loss: 0.7853\n",
            "Epoch 73/100\n",
            "81191/81191 [==============================] - 3s 42us/step - loss: 0.5652 - val_loss: 0.7870\n",
            "Epoch 74/100\n",
            "81191/81191 [==============================] - 3s 42us/step - loss: 0.5646 - val_loss: 0.7853\n",
            "Epoch 75/100\n",
            "81191/81191 [==============================] - 3s 42us/step - loss: 0.5639 - val_loss: 0.7841\n",
            "Epoch 76/100\n",
            "81191/81191 [==============================] - 3s 42us/step - loss: 0.5635 - val_loss: 0.7868\n",
            "Epoch 77/100\n",
            "81191/81191 [==============================] - 3s 42us/step - loss: 0.5627 - val_loss: 0.7883\n",
            "Epoch 78/100\n",
            "81191/81191 [==============================] - 3s 41us/step - loss: 0.5624 - val_loss: 0.7917\n",
            "Epoch 79/100\n",
            "81191/81191 [==============================] - 3s 42us/step - loss: 0.5618 - val_loss: 0.7916\n",
            "Epoch 80/100\n",
            "81191/81191 [==============================] - 3s 42us/step - loss: 0.5616 - val_loss: 0.7899\n",
            "Epoch 81/100\n",
            "81191/81191 [==============================] - 3s 42us/step - loss: 0.5606 - val_loss: 0.7922\n",
            "Epoch 82/100\n",
            "81191/81191 [==============================] - 3s 42us/step - loss: 0.5602 - val_loss: 0.7897\n",
            "Epoch 83/100\n",
            "81191/81191 [==============================] - 3s 42us/step - loss: 0.5599 - val_loss: 0.7913\n",
            "Epoch 84/100\n",
            "81191/81191 [==============================] - 4s 43us/step - loss: 0.5593 - val_loss: 0.7916\n",
            "Epoch 85/100\n",
            "81191/81191 [==============================] - 3s 42us/step - loss: 0.5592 - val_loss: 0.7926\n",
            "Epoch 86/100\n",
            "81191/81191 [==============================] - 3s 42us/step - loss: 0.5586 - val_loss: 0.7921\n",
            "Epoch 87/100\n",
            "81191/81191 [==============================] - 3s 43us/step - loss: 0.5583 - val_loss: 0.7958\n",
            "Epoch 88/100\n",
            "81191/81191 [==============================] - 3s 42us/step - loss: 0.5578 - val_loss: 0.7908\n",
            "Epoch 89/100\n",
            "81191/81191 [==============================] - 3s 42us/step - loss: 0.5577 - val_loss: 0.7931\n",
            "Epoch 90/100\n",
            "81191/81191 [==============================] - 3s 41us/step - loss: 0.5572 - val_loss: 0.7956\n",
            "Epoch 91/100\n",
            "81191/81191 [==============================] - 3s 42us/step - loss: 0.5567 - val_loss: 0.7960\n",
            "Epoch 92/100\n",
            "81191/81191 [==============================] - 3s 42us/step - loss: 0.5562 - val_loss: 0.7964\n",
            "Epoch 93/100\n",
            "81191/81191 [==============================] - 4s 45us/step - loss: 0.5562 - val_loss: 0.7962\n",
            "Epoch 94/100\n",
            "81191/81191 [==============================] - 4s 45us/step - loss: 0.5558 - val_loss: 0.7970\n",
            "Epoch 95/100\n",
            "81191/81191 [==============================] - 3s 42us/step - loss: 0.5556 - val_loss: 0.7973\n",
            "Epoch 96/100\n",
            "81191/81191 [==============================] - 3s 42us/step - loss: 0.5552 - val_loss: 0.7970\n",
            "Epoch 97/100\n",
            "81191/81191 [==============================] - 3s 42us/step - loss: 0.5548 - val_loss: 0.7961\n",
            "Epoch 98/100\n",
            "81191/81191 [==============================] - 3s 41us/step - loss: 0.5544 - val_loss: 0.7978\n",
            "Epoch 99/100\n",
            "81191/81191 [==============================] - 3s 41us/step - loss: 0.5543 - val_loss: 0.8017\n",
            "Epoch 100/100\n",
            "81191/81191 [==============================] - 3s 42us/step - loss: 0.5539 - val_loss: 0.7999\n"
          ],
          "name": "stdout"
        }
      ]
    },
    {
      "cell_type": "code",
      "metadata": {
        "id": "ZEfEQyQMlRUY",
        "colab_type": "code",
        "outputId": "3688d742-86d3-4f82-813f-9659cf01e807",
        "colab": {
          "base_uri": "https://localhost:8080/",
          "height": 300
        }
      },
      "source": [
        "pd.Series(history.history['val_loss'][10:]).plot(logy=False)\n",
        "plt.xlabel(\"Epoch\")\n",
        "plt.ylabel(\"Validation Error\")\n",
        "print('Minimum MSE: ', min(history.history['val_loss']))"
      ],
      "execution_count": 0,
      "outputs": [
        {
          "output_type": "stream",
          "text": [
            "Minimum MSE:  0.7576441799714332\n"
          ],
          "name": "stdout"
        },
        {
          "output_type": "display_data",
          "data": {
            "image/png": "[encoded data removed]",
            "text/plain": [
              "<Figure size 432x288 with 1 Axes>"
            ]
          },
          "metadata": {
            "tags": []
          }
        }
      ]
    },
    {
      "cell_type": "code",
      "metadata": {
        "id": "Y9RiJzJLm0Qu",
        "colab_type": "code",
        "colab": {}
      },
      "source": [
        ""
      ],
      "execution_count": 0,
      "outputs": []
    },
    {
      "cell_type": "markdown",
      "metadata": {
        "id": "AyP6D7cem1RE",
        "colab_type": "text"
      },
      "source": [
        "This experiment shows overfitting from epoch 25 onwards. The MSE reaches a minimum of 0.758 and then fails to improve. A better result was achieved with 3 latent factors.\n",
        "\n",
        "\n",
        "## Colaborative Filtering Using RBMs\n",
        "\n",
        "Let's recall the architecture of RMBs. They have two layers: an input and hidden. Neurons are connected to neurons in other layers but not to neurons in the same layer.\n",
        "\n",
        "One difference RMBs have compared to autoencoders is that the communication between layers in RBMs happens in both directions whereas in autoencoders only in the forward direction.\n",
        "\n",
        "In RMBs the input data gets passed from the visible layer to the hidden one and back several times. This develops a *generative model* that produces an output similar to the input data.\n",
        "\n",
        "In our case, an RMB will try to generate a rating prediction on a movie a user has never seen based on how similar the movie is to those the user rated before and how similar the user is to users that rated the movie.\n",
        "\n",
        "The input layer will have X neurons, X equal to the number of movies ( $n$) in the dataset. Each neuron will have a value of the normalized rating in range 0 to 1 with 0 meaning the user never rated the movie and 1 means the highest rating. The neuron in the visible layer will communicate with those in the hidden layer trying to learn latent factors and produce a generative model to make rating predictions.\n",
        "\n",
        "\n",
        "### RBM Neural Network Architecture\n",
        "\n",
        "For the RBM-based recommender, we will use the rating matrix of the dimensions $m \\times n$. Here, $m$ is the number of users and $n$ is the number of movies. Each input $X$ that is passed to the input layer will have $n$ ratings ranging from 0 to 1. This means the input layer will have to have also $n$  neurons.\n",
        "\n",
        "The inputs are passed in batches of $k$ users and the network is trained for a specified number of epochs.\n",
        "\n",
        "We can design the hidden layer to have fewer nodes than $n$ thus forcing it to learn the most salient features and generalize better.\n",
        "\n",
        "The process starts with the input vector $v0$ that is passed to the visible layer. On its way to the hidden layer, the $v0$ vector is multiplied by the weights vector $W$. Additionally, a bias vector $hb$ is added guaranteeing that at least some neurons will fire. Before going through the activation function of the hidden layer the inputs then look like this:\n",
        "$$\n",
        "W*v0 + hb\n",
        "$$\n",
        "\n",
        "After the vector is passed through the activation function, we take a sample of them using what is called *Gibbs sampling*. This makes the RBM to produce the results stochastically which makes it more robust.\n",
        "\n",
        "The result of the sampling of the hidden layer output is marked $h0$ and is send in a *backward* pass to the visible layer. It is also multiplied by the same weights $W$ and a bias vector $vb$ is added at the visible layer. The ney input is therefore:\n",
        "\n",
        "$$\n",
        "W*h0 + vb\n",
        "$$\n",
        "\n",
        "This is then passes through the activation function of the visible layer, and is sampled using Gibbs sampling before going forward to the hidden layer in the next epoch.\n",
        "\n",
        "The RBM performs these back-and -forth passes several times learning the optimal weights that minimize the Kullback-Leibler distance between the original distribution and the learned probability distribution.\n",
        "\n",
        "\n",
        "### Build the Components of the RBM Class\n",
        "\n",
        "First, we need to specify the parameters to the RBM class. They are:\n",
        "\n",
        " - Input size\n",
        " - Output size\n",
        " - Learning rate\n",
        " - Number of epochs\n",
        " - Batch size that we will use during the training\n",
        " \n",
        "We will also create zero matrices for the weight matrix, hidden and visible bias vectors.\n",
        "\n",
        "\n"
      ]
    },
    {
      "cell_type": "code",
      "metadata": {
        "id": "naw9qAee8aIk",
        "colab_type": "code",
        "colab": {}
      },
      "source": [
        "# Define RBM class\n",
        "class RBM(object):\n",
        "    \n",
        "    def __init__(self, input_size, output_size, \n",
        "                 learning_rate, epochs, batchsize):\n",
        "        # Define hyperparameters\n",
        "        self._input_size = input_size\n",
        "        self._output_size = output_size\n",
        "        self.learning_rate = learning_rate\n",
        "        self.epochs = epochs\n",
        "        self.batchsize = batchsize\n",
        "        \n",
        "        # Initialize weights and biases using zero matrices\n",
        "        self.w = np.zeros([input_size, output_size], dtype=np.float32)\n",
        "        self.hb = np.zeros([output_size], dtype=np.float32)\n",
        "        self.vb = np.zeros([input_size], dtype=np.float32)\n",
        "        \n",
        "    def prob_h_given_v(self, visible, w, hb):\n",
        "        ''' Forward pass: multiplying the visible input by weights and \n",
        "        adding the hidden bias vector\n",
        "        '''\n",
        "        return tf.nn.sigmoid(tf.matmul(visible, w) + hb)\n",
        "\n",
        "    def prob_v_given_h(self, hidden, w, vb):\n",
        "        '''Backward pass: multplying by weights and adding the visiblt\n",
        "        bias vector.'''\n",
        "        return tf.nn.sigmoid(tf.matmul(hidden, tf.transpose(w)) + vb)\n",
        "    \n",
        "    def sample_prob(self, probs):\n",
        "        '''Perform Gibbs sampling\n",
        "        '''\n",
        "        return tf.nn.relu(tf.sign(probs - tf.random_uniform(tf.shape(probs))))\n",
        "\n",
        "    def train(self, X):\n",
        "        # Placeholders for weight, hidden and visible bias vectors\n",
        "        _w = tf.placeholder(tf.float32, [self._input_size, self._output_size])\n",
        "        _hb = tf.placeholder(tf.float32, [self._output_size])\n",
        "        _vb = tf.placeholder(tf.float32, [self._input_size])\n",
        "        \n",
        "        # containers to keep values of previous and current \n",
        "        # weights and bias vectors\n",
        "        prv_w = np.zeros([self._input_size, self._output_size], dtype=np.float32)\n",
        "        prv_hb = np.zeros([self._output_size], dtype=np.float32)\n",
        "        prv_vb = np.zeros([self._input_size], dtype=np.float32)\n",
        "        \n",
        "        cur_w = np.zeros([self._input_size, self._output_size], dtype=np.float32)\n",
        "        cur_hb = np.zeros([self._output_size], dtype=np.float32)\n",
        "        cur_vb = np.zeros([self._input_size], dtype=np.float32)\n",
        "        \n",
        "        # Perform forward and backward passes\n",
        "        # note that the weights matrix is the same in the forward and backward\n",
        "        # passes\n",
        "        v0 = tf.placeholder(tf.float32, [None, self._input_size])\n",
        "        h0 = self.sample_prob(self.prob_h_given_v(v0, _w, _hb))\n",
        "        \n",
        "        # Perform the forward pass again\n",
        "        v1 = self.sample_prob(self.prob_v_given_h(h0, _w, _vb))\n",
        "        h1 = self.prob_h_given_v(v1, _w, _hb)\n",
        "        \n",
        "        # update weights and bias vectors using Contrastive Divergence\n",
        "        positive_grad = tf.matmul(tf.transpose(v0), h0)\n",
        "        negative_grad = tf.matmul(tf.transpose(v1), h1)\n",
        "        \n",
        "        update_w = _w + self.learning_rate * \\\n",
        "            (positive_grad - negative_grad) / tf.to_float(tf.shape(v0)[0])\n",
        "        update_vb = _vb +  self.learning_rate * tf.reduce_mean(v0 - v1, 0)\n",
        "        update_hb = _hb +  self.learning_rate * tf.reduce_mean(h0 - h1, 0)\n",
        "        \n",
        "        # Error is defined as MSE\n",
        "        err = tf.reduce_mean(tf.square(v0 - v1))\n",
        "        \n",
        "        error_list = []\n",
        "        \n",
        "        with tf.Session() as sess:\n",
        "            sess.run(tf.global_variables_initializer())\n",
        "            \n",
        "            for epoch in range(self.epochs):\n",
        "                for start, end in zip(range(0, len(X), \\\n",
        "                        self.batchsize),range(self.batchsize,len(X), \\\n",
        "                                              self.batchsize)):\n",
        "                    # the zip returns a tuple with start indicating\n",
        "                    # the beginning index of the batch, and end indicating\n",
        "                    # the end of the batch (start plus batch size)\n",
        "                    batch = X[start:end]\n",
        "                    cur_w = sess.run(update_w, feed_dict={v0: batch, \\\n",
        "                                    _w: prv_w, _hb: prv_hb, _vb: prv_vb})\n",
        "                    cur_hb = sess.run(update_hb, feed_dict={v0: batch, \\\n",
        "                                    _w: prv_w, _hb: prv_hb, _vb: prv_vb})\n",
        "                    cur_vb = sess.run(update_vb, feed_dict={v0: batch, \\\n",
        "                                    _w: prv_w, _hb: prv_hb, _vb: prv_vb})\n",
        "                    prv_w = cur_w\n",
        "                    prv_hb = cur_hb\n",
        "                    prv_vb = cur_vb\n",
        "                error = sess.run(err, feed_dict={v0: X, \\\n",
        "                                _w: cur_w, _vb: cur_vb, _hb: cur_hb})\n",
        "                print ('Epoch: %d' % epoch,'reconstruction error: %f' % error)\n",
        "                error_list.append(error)\n",
        "            self.w = prv_w\n",
        "            self.hb = prv_hb\n",
        "            self.vb = prv_vb\n",
        "            return error_list\n",
        "\n",
        "    def rbm_output(self, X):\n",
        "        \n",
        "        input_X = tf.constant(X)\n",
        "        _w = tf.constant(self.w)\n",
        "        _hb = tf.constant(self.hb)\n",
        "        _vb = tf.constant(self.vb)\n",
        "        out = tf.nn.sigmoid(tf.matmul(input_X, _w) + _hb)\n",
        "        hiddenGen = self.sample_prob(self.prob_h_given_v(input_X, _w, _hb))\n",
        "        visibleGen = self.sample_prob(self.prob_v_given_h(hiddenGen, _w, _vb))\n",
        "        with tf.Session() as sess:\n",
        "            sess.run(tf.global_variables_initializer())\n",
        "            return sess.run(out), sess.run(visibleGen), sess.run(hiddenGen)"
      ],
      "execution_count": 0,
      "outputs": []
    },
    {
      "cell_type": "markdown",
      "metadata": {
        "id": "7kCzR6Y6Ia0l",
        "colab_type": "text"
      },
      "source": [
        "### Train the RBM Recommender\n",
        "\n",
        "To train the recommender we will generate an input array `inputX` from the `ratings_train` and convert its values to `float32`. Then we initialize an instance of the RBM class with the initial parameters like these:\n",
        "\n",
        " - input and output sizes: 1000\n",
        " - learning rate 0.3\n",
        " - epoch number 500\n",
        " - batch size: 200\n",
        " \n",
        "These parameter values can be experimented with to achieve better results."
      ]
    },
    {
      "cell_type": "code",
      "metadata": {
        "id": "KFXqPPt8IA7i",
        "colab_type": "code",
        "colab": {}
      },
      "source": [
        "# Begin the training cycle\n",
        "\n",
        "# Convert inputX into float32\n",
        "inputX = ratings_train\n",
        "inputX = inputX.astype(np.float32)\n",
        "\n",
        "# Define the parameters of the RBMs we will train\n",
        "rbm=RBM(1000,1000,1,1000,200)"
      ],
      "execution_count": 0,
      "outputs": []
    },
    {
      "cell_type": "code",
      "metadata": {
        "id": "QiDV_vABJdpj",
        "colab_type": "code",
        "colab": {}
      },
      "source": [
        "# Train RBM model\n",
        "err = rbm.train(inputX)\n",
        "outputX, reconstructedX, hiddenX = rbm.rbm_output(inputX)"
      ],
      "execution_count": 0,
      "outputs": []
    },
    {
      "cell_type": "code",
      "metadata": {
        "id": "aTkz6ni_Jgcx",
        "colab_type": "code",
        "colab": {
          "base_uri": "https://localhost:8080/",
          "height": 300
        },
        "outputId": "9471a313-7673-4f60-c583-da2ba2012022"
      },
      "source": [
        "# Plot reconstruction errors\n",
        "pd.Series(err).plot(logy=False)\n",
        "plt.xlabel(\"Epoch\")\n",
        "plt.ylabel(\"Reconstruction Error\")"
      ],
      "execution_count": 23,
      "outputs": [
        {
          "output_type": "execute_result",
          "data": {
            "text/plain": [
              "Text(0, 0.5, 'Reconstruction Error')"
            ]
          },
          "metadata": {
            "tags": []
          },
          "execution_count": 23
        },
        {
          "output_type": "display_data",
          "data": {
            "image/png": "[encoded data removed]",
            "text/plain": [
              "<Figure size 432x288 with 1 Axes>"
            ]
          },
          "metadata": {
            "tags": []
          }
        }
      ]
    },
    {
      "cell_type": "markdown",
      "metadata": {
        "id": "FPLqfEuLMFRu",
        "colab_type": "text"
      },
      "source": [
        "One can see that with longer training the reconstruction error decreases.\n",
        "\n",
        "Now, let's take the trained RMB to predict the ratings for users in the validation set (this one has the same users as the training set):"
      ]
    },
    {
      "cell_type": "code",
      "metadata": {
        "id": "talk9GrjMC3a",
        "colab_type": "code",
        "colab": {}
      },
      "source": [
        "# Predict ratings for validation set\n",
        "inputValidation = ratings_validation\n",
        "inputValidation = inputValidation.astype(np.float32)\n",
        "\n",
        "finalOutput_validation, reconstructedOutput_validation, _ = \\\n",
        "    rbm.rbm_output(inputValidation)"
      ],
      "execution_count": 0,
      "outputs": []
    },
    {
      "cell_type": "markdown",
      "metadata": {
        "id": "H-F_Z9OBMaaP",
        "colab_type": "text"
      },
      "source": [
        "We will convert the predicstions into an array and calculate the MSE against the true validation ratings:\n"
      ]
    },
    {
      "cell_type": "code",
      "metadata": {
        "id": "XBAKgauOMYgu",
        "colab_type": "code",
        "colab": {
          "base_uri": "https://localhost:8080/",
          "height": 34
        },
        "outputId": "2aef9710-17c1-4ae6-b44f-e7210a55ef19"
      },
      "source": [
        "# Calculate MSE on validation set\n",
        "predictionsArray = reconstructedOutput_validation\n",
        "pred_validation = \\\n",
        "    predictionsArray[ratings_validation.nonzero()].flatten()\n",
        "actual_validation = \\\n",
        "    ratings_validation[ratings_validation.nonzero()].flatten()\n",
        "\n",
        "rbm_prediction = mean_squared_error(pred_validation, actual_validation)\n",
        "print('Mean squared error using RBM prediction:', rbm_prediction)"
      ],
      "execution_count": 25,
      "outputs": [
        {
          "output_type": "stream",
          "text": [
            "Mean squared error using RBM prediction: 9.35618488140102\n"
          ],
          "name": "stdout"
        }
      ]
    },
    {
      "cell_type": "markdown",
      "metadata": {
        "id": "M0-atMoWMn96",
        "colab_type": "text"
      },
      "source": [
        "We would need to perform more experiments to improve this initial error value.\n",
        "\n",
        "\n",
        "## Conclusion\n",
        "\n",
        "We have used restricted Bolztmann machines to build a recommender hat tries to learn the distribution from the training data tp make predictions on the never before seen samples."
      ]
    },
    {
      "cell_type": "code",
      "metadata": {
        "id": "_8zfo7uhMkki",
        "colab_type": "code",
        "colab": {}
      },
      "source": [
        ""
      ],
      "execution_count": 0,
      "outputs": []
    }
  ]
}